{
 "cells": [
  {
   "cell_type": "markdown",
   "metadata": {
    "colab_type": "text",
    "id": "QErc-SmwxrUO"
   },
   "source": [
    "## PLOTLY TUTORIAL-1"
   ]
  },
  {
   "cell_type": "markdown",
   "metadata": {
    "colab_type": "text",
    "id": "ksfGXhKCRGOI"
   },
   "source": [
    "Python ana akım görselleştirme kütüphanelerini 2 sınıfa ayırabiliriz.\n",
    "\n",
    "Statik: Matplotlib, Seaborn\n",
    "\n",
    "Dinamik: Bokeh, Plotly\n",
    "\n",
    "Plotly interaktif görseller oluşturmamıza yarayan açık kaynak kodlu d3.js üzerine inşa edilmiş bir kütüphanedir ve Matlab, R ve Python API'leri bulunmaktadır. \n",
    "\n",
    "Bu da demek oluyor ki Python kullanıcıları pandas dataframe içinde istedikleri veri manipülasyonlarını gerçekleştirip kolaylıkla interaktif görseller oluşturabilirler.\n",
    "\n",
    "<img src=\"https://cdn-images-1.medium.com/max/880/1*bwEUIq7LUE2RTRHalzowAQ.png\">"
   ]
  },
  {
   "cell_type": "code",
   "execution_count": 13,
   "metadata": {
    "colab": {
     "base_uri": "https://localhost:8080/",
     "height": 197
    },
    "colab_type": "code",
    "id": "XPmQHZYsxpLb",
    "outputId": "f7b910a5-4def-4462-f733-d8046bf4d6c3"
   },
   "outputs": [
    {
     "data": {
      "text/html": [
       "<div>\n",
       "<style scoped>\n",
       "    .dataframe tbody tr th:only-of-type {\n",
       "        vertical-align: middle;\n",
       "    }\n",
       "\n",
       "    .dataframe tbody tr th {\n",
       "        vertical-align: top;\n",
       "    }\n",
       "\n",
       "    .dataframe thead th {\n",
       "        text-align: right;\n",
       "    }\n",
       "</style>\n",
       "<table border=\"1\" class=\"dataframe\">\n",
       "  <thead>\n",
       "    <tr style=\"text-align: right;\">\n",
       "      <th></th>\n",
       "      <th>date</th>\n",
       "      <th>open</th>\n",
       "      <th>high</th>\n",
       "      <th>low</th>\n",
       "      <th>close</th>\n",
       "      <th>volume</th>\n",
       "      <th>Name</th>\n",
       "    </tr>\n",
       "  </thead>\n",
       "  <tbody>\n",
       "    <tr>\n",
       "      <th>0</th>\n",
       "      <td>2013-02-08</td>\n",
       "      <td>15.07</td>\n",
       "      <td>15.12</td>\n",
       "      <td>14.63</td>\n",
       "      <td>14.75</td>\n",
       "      <td>8407500</td>\n",
       "      <td>AAL</td>\n",
       "    </tr>\n",
       "    <tr>\n",
       "      <th>1</th>\n",
       "      <td>2013-02-11</td>\n",
       "      <td>14.89</td>\n",
       "      <td>15.01</td>\n",
       "      <td>14.26</td>\n",
       "      <td>14.46</td>\n",
       "      <td>8882000</td>\n",
       "      <td>AAL</td>\n",
       "    </tr>\n",
       "    <tr>\n",
       "      <th>2</th>\n",
       "      <td>2013-02-12</td>\n",
       "      <td>14.45</td>\n",
       "      <td>14.51</td>\n",
       "      <td>14.10</td>\n",
       "      <td>14.27</td>\n",
       "      <td>8126000</td>\n",
       "      <td>AAL</td>\n",
       "    </tr>\n",
       "    <tr>\n",
       "      <th>3</th>\n",
       "      <td>2013-02-13</td>\n",
       "      <td>14.30</td>\n",
       "      <td>14.94</td>\n",
       "      <td>14.25</td>\n",
       "      <td>14.66</td>\n",
       "      <td>10259500</td>\n",
       "      <td>AAL</td>\n",
       "    </tr>\n",
       "    <tr>\n",
       "      <th>4</th>\n",
       "      <td>2013-02-14</td>\n",
       "      <td>14.94</td>\n",
       "      <td>14.96</td>\n",
       "      <td>13.16</td>\n",
       "      <td>13.99</td>\n",
       "      <td>31879900</td>\n",
       "      <td>AAL</td>\n",
       "    </tr>\n",
       "  </tbody>\n",
       "</table>\n",
       "</div>"
      ],
      "text/plain": [
       "         date   open   high    low  close    volume Name\n",
       "0  2013-02-08  15.07  15.12  14.63  14.75   8407500  AAL\n",
       "1  2013-02-11  14.89  15.01  14.26  14.46   8882000  AAL\n",
       "2  2013-02-12  14.45  14.51  14.10  14.27   8126000  AAL\n",
       "3  2013-02-13  14.30  14.94  14.25  14.66  10259500  AAL\n",
       "4  2013-02-14  14.94  14.96  13.16  13.99  31879900  AAL"
      ]
     },
     "execution_count": 13,
     "metadata": {
      "tags": []
     },
     "output_type": "execute_result"
    }
   ],
   "source": [
    "import pandas as pd\n",
    "df = pd.read_csv('https://raw.githubusercontent.com/HakkiKaanSimsek/Python_Dersleri/master/2.gorsellestirme/data/all_stocks_5yr.csv')\n",
    "df.head()"
   ]
  },
  {
   "cell_type": "code",
   "execution_count": 14,
   "metadata": {
    "colab": {
     "base_uri": "https://localhost:8080/",
     "height": 197
    },
    "colab_type": "code",
    "id": "0QnTuikhxpLn",
    "outputId": "4b4ff656-aa69-41c7-e3cb-39898d689c3f"
   },
   "outputs": [
    {
     "data": {
      "text/html": [
       "<div>\n",
       "<style scoped>\n",
       "    .dataframe tbody tr th:only-of-type {\n",
       "        vertical-align: middle;\n",
       "    }\n",
       "\n",
       "    .dataframe tbody tr th {\n",
       "        vertical-align: top;\n",
       "    }\n",
       "\n",
       "    .dataframe thead th {\n",
       "        text-align: right;\n",
       "    }\n",
       "</style>\n",
       "<table border=\"1\" class=\"dataframe\">\n",
       "  <thead>\n",
       "    <tr style=\"text-align: right;\">\n",
       "      <th></th>\n",
       "      <th>date</th>\n",
       "      <th>open</th>\n",
       "      <th>high</th>\n",
       "      <th>low</th>\n",
       "      <th>close</th>\n",
       "      <th>volume</th>\n",
       "      <th>Name</th>\n",
       "    </tr>\n",
       "  </thead>\n",
       "  <tbody>\n",
       "    <tr>\n",
       "      <th>46387</th>\n",
       "      <td>2013-02-08</td>\n",
       "      <td>261.40</td>\n",
       "      <td>265.25</td>\n",
       "      <td>260.555</td>\n",
       "      <td>261.95</td>\n",
       "      <td>3879078</td>\n",
       "      <td>AMZN</td>\n",
       "    </tr>\n",
       "    <tr>\n",
       "      <th>46388</th>\n",
       "      <td>2013-02-11</td>\n",
       "      <td>263.20</td>\n",
       "      <td>263.25</td>\n",
       "      <td>256.600</td>\n",
       "      <td>257.21</td>\n",
       "      <td>3403403</td>\n",
       "      <td>AMZN</td>\n",
       "    </tr>\n",
       "    <tr>\n",
       "      <th>46389</th>\n",
       "      <td>2013-02-12</td>\n",
       "      <td>259.19</td>\n",
       "      <td>260.16</td>\n",
       "      <td>257.000</td>\n",
       "      <td>258.70</td>\n",
       "      <td>2938660</td>\n",
       "      <td>AMZN</td>\n",
       "    </tr>\n",
       "    <tr>\n",
       "      <th>46390</th>\n",
       "      <td>2013-02-13</td>\n",
       "      <td>261.53</td>\n",
       "      <td>269.96</td>\n",
       "      <td>260.300</td>\n",
       "      <td>269.47</td>\n",
       "      <td>5292996</td>\n",
       "      <td>AMZN</td>\n",
       "    </tr>\n",
       "    <tr>\n",
       "      <th>46391</th>\n",
       "      <td>2013-02-14</td>\n",
       "      <td>267.37</td>\n",
       "      <td>270.65</td>\n",
       "      <td>265.400</td>\n",
       "      <td>269.24</td>\n",
       "      <td>3462780</td>\n",
       "      <td>AMZN</td>\n",
       "    </tr>\n",
       "  </tbody>\n",
       "</table>\n",
       "</div>"
      ],
      "text/plain": [
       "             date    open    high      low   close   volume  Name\n",
       "46387  2013-02-08  261.40  265.25  260.555  261.95  3879078  AMZN\n",
       "46388  2013-02-11  263.20  263.25  256.600  257.21  3403403  AMZN\n",
       "46389  2013-02-12  259.19  260.16  257.000  258.70  2938660  AMZN\n",
       "46390  2013-02-13  261.53  269.96  260.300  269.47  5292996  AMZN\n",
       "46391  2013-02-14  267.37  270.65  265.400  269.24  3462780  AMZN"
      ]
     },
     "execution_count": 14,
     "metadata": {
      "tags": []
     },
     "output_type": "execute_result"
    }
   ],
   "source": [
    "goog= df[df.Name=='GOOG']\n",
    "amzn = df[df.Name=='AMZN']\n",
    "amzn.head()"
   ]
  },
  {
   "cell_type": "markdown",
   "metadata": {
    "colab_type": "text",
    "id": "MNekX_F6xpLq"
   },
   "source": [
    "### Plotly kütüphanesinin arkasındaki mantık hemen hemen bütün görseller için aynı!\n",
    "- Veriyle ilgili her şey için >> trace\n",
    "- Başlık, eksenlerin rotasyonu vs. için >> layout\n",
    "- Trace ve layout birleştirip >> fig\n",
    "- py.iplot(fig)"
   ]
  },
  {
   "cell_type": "markdown",
   "metadata": {
    "colab_type": "text",
    "id": "gVIYcxGdxpLr"
   },
   "source": [
    "Google hisse senetleri üzerinden adım adım gidelim şimdi.\n",
    "- go.Scatter fonksiyonunun içine x, y değişkenlerini koyalım >> trace\n",
    "- py.iplot(trace)"
   ]
  },
  {
   "cell_type": "markdown",
   "metadata": {
    "colab_type": "text",
    "id": "w7b_Z6LsYgBJ"
   },
   "source": [
    "**username ve api_key yerlerini değiştirmelisiniz.**"
   ]
  },
  {
   "cell_type": "code",
   "execution_count": 25,
   "metadata": {
    "colab": {
     "base_uri": "https://localhost:8080/",
     "height": 546
    },
    "colab_type": "code",
    "id": "Rj6vp2coxpLs",
    "outputId": "76c9c6c5-d770-4f16-8941-4205dd14bed0"
   },
   "outputs": [
    {
     "data": {
      "text/html": [
       "<iframe id=\"igraph\" scrolling=\"no\" style=\"border:none;\" seamless=\"seamless\" src=\"https://plot.ly/~hkaansimsek/473.embed\" height=\"525px\" width=\"100%\"></iframe>"
      ],
      "text/plain": [
       "<plotly.tools.PlotlyDisplay object>"
      ]
     },
     "execution_count": 25,
     "metadata": {
      "tags": []
     },
     "output_type": "execute_result"
    }
   ],
   "source": [
    "import plotly.plotly as py\n",
    "import plotly.graph_objs as go\n",
    "from plotly import tools\n",
    "\n",
    "import plotly\n",
    "plotly.tools.set_credentials_file(username='xx', api_key='xx')\n",
    "plotly.tools.set_config_file(world_readable=True, sharing='public')\n",
    "\n",
    "trace = go.Scatter(x=goog.date, y=goog.close)\n",
    "py.iplot([trace])"
   ]
  },
  {
   "cell_type": "markdown",
   "metadata": {
    "colab_type": "text",
    "id": "diIpt_GUxpLw"
   },
   "source": [
    "Şimdi de Amazon hisselerini aynı grafiğe ekleyelim, mantık yine aynı:\n",
    "\n",
    "- Google için go.Scatter fonksiyonunun içine x, y değişkenlerini koyalım >> trace0\n",
    "- Amazon için go.Scatter fonksiyonunun içine x, y değişkenlerini koyalım >> trace1\n",
    "- trace0 ve trace1'i tek bir array içine koyalım >> data\n",
    "- py.iplot(data)"
   ]
  },
  {
   "cell_type": "code",
   "execution_count": 18,
   "metadata": {
    "colab": {
     "base_uri": "https://localhost:8080/",
     "height": 546
    },
    "colab_type": "code",
    "id": "DCAtBEOLxpLw",
    "outputId": "12f65234-cff9-4669-c25a-cb82016f13e9"
   },
   "outputs": [
    {
     "data": {
      "text/html": [
       "<iframe id=\"igraph\" scrolling=\"no\" style=\"border:none;\" seamless=\"seamless\" src=\"https://plot.ly/~hkaansimsek/471.embed\" height=\"525px\" width=\"100%\"></iframe>"
      ],
      "text/plain": [
       "<plotly.tools.PlotlyDisplay object>"
      ]
     },
     "execution_count": 18,
     "metadata": {
      "tags": []
     },
     "output_type": "execute_result"
    }
   ],
   "source": [
    "trace0 = go.Scatter(x=goog.date, y=goog.close, name='GOOG')\n",
    "trace1 = go.Scatter(x=amzn.date, y=amzn.close, name='AMZN')\n",
    "data = [trace0, trace1]\n",
    "py.iplot(data)"
   ]
  },
  {
   "cell_type": "markdown",
   "metadata": {
    "colab_type": "text",
    "id": "X0T69n8vxpL0"
   },
   "source": [
    "Farklı verileri aynı grafikte nasıl göstereceğimizi öğrendik şimdi de başlık atalım. \n",
    "- Google için go.Scatter fonksiyonunun içine x, y değişkenlerini koyalım >> trace0\n",
    "- Amazon için go.Scatter fonksiyonunun içine x, y değişkenlerini koyalım >> trace1\n",
    "- trace0 ve trace1'i tek bir array içine koyalım >> data\n",
    "- Görsele başlık ekleyelim. >> layout\n",
    "- Data ve layout birleştirelim. >> fig\n",
    "- py.iplot(fig)"
   ]
  },
  {
   "cell_type": "code",
   "execution_count": 0,
   "metadata": {
    "colab": {},
    "colab_type": "code",
    "id": "rGeo_pYwxpL2",
    "outputId": "7a4a450d-6713-47e0-c28d-af5357925c58"
   },
   "outputs": [
    {
     "data": {
      "text/html": [
       "<iframe id=\"igraph\" scrolling=\"no\" style=\"border:none;\" seamless=\"seamless\" src=\"https://plot.ly/~hkaansimsek/447.embed\" height=\"525px\" width=\"100%\"></iframe>"
      ],
      "text/plain": [
       "<plotly.tools.PlotlyDisplay object>"
      ]
     },
     "execution_count": 5,
     "metadata": {
      "tags": []
     },
     "output_type": "execute_result"
    }
   ],
   "source": [
    "trace0 = go.Scatter(x=goog.date, y=goog.close, name='GOOG')\n",
    "trace1 = go.Scatter(x=amzn.date, y=amzn.close, name='AMZN')\n",
    "data = [trace0, trace1]\n",
    "layout = dict(title='Google ve Amazon Hisse Senedi Fiyatları')\n",
    "fig = dict(data=data, layout=layout)\n",
    "py.iplot(fig)"
   ]
  },
  {
   "cell_type": "markdown",
   "metadata": {
    "colab_type": "text",
    "id": "dy4PE1ykxpL6"
   },
   "source": [
    "Grafiğimizi biraz daha özelleştirelim, adımlarımız artık aynı. Renkler için trace0 ve trace1'e x eksenindeki tarih aralığı için layout'a eklemeler yapıp görselleştirelim."
   ]
  },
  {
   "cell_type": "code",
   "execution_count": 0,
   "metadata": {
    "colab": {},
    "colab_type": "code",
    "id": "_l3DUPXTxpL7",
    "outputId": "3275cd3d-8a1c-436d-b927-adce0c61a236"
   },
   "outputs": [
    {
     "data": {
      "text/html": [
       "<iframe id=\"igraph\" scrolling=\"no\" style=\"border:none;\" seamless=\"seamless\" src=\"https://plot.ly/~hkaansimsek/449.embed\" height=\"525px\" width=\"100%\"></iframe>"
      ],
      "text/plain": [
       "<plotly.tools.PlotlyDisplay object>"
      ]
     },
     "execution_count": 6,
     "metadata": {
      "tags": []
     },
     "output_type": "execute_result"
    }
   ],
   "source": [
    "trace0 = go.Scatter(x=goog.date, y=goog.close, name='GOOG', line=dict(color='lime'))\n",
    "trace1 = go.Scatter(x=amzn.date, y=amzn.close, name='AMZN', line=dict(color='grey'))\n",
    "data = [trace0, trace1]\n",
    "layout = dict(title='Google ve Amazon Hisse Senedi Fiyatları',xaxis = dict(\n",
    "        range = ['2016-03-01','2018-01-31']))\n",
    "fig = dict(data=data, layout=layout)\n",
    "py.iplot(fig)"
   ]
  },
  {
   "cell_type": "markdown",
   "metadata": {
    "colab_type": "text",
    "id": "kLS_Y0k3xpL-"
   },
   "source": [
    "Google ve Amazon hisselerinin tümü üzerinde bir çalışma yaptık şimdiye kadar. Şimdi bu karşılaştırmayı 1 aylık, 3 aylık, 6 aylık ve 12 aylık olarak incelemeye olanak sağlayan butonları tanıtalım."
   ]
  },
  {
   "cell_type": "code",
   "execution_count": 0,
   "metadata": {
    "colab": {},
    "colab_type": "code",
    "id": "jo2b6uYWxpL_",
    "outputId": "d2a88f7b-e4fc-4424-ed90-d4156d00c11a"
   },
   "outputs": [
    {
     "data": {
      "text/html": [
       "<iframe id=\"igraph\" scrolling=\"no\" style=\"border:none;\" seamless=\"seamless\" src=\"https://plot.ly/~hkaansimsek/451.embed\" height=\"525px\" width=\"100%\"></iframe>"
      ],
      "text/plain": [
       "<plotly.tools.PlotlyDisplay object>"
      ]
     },
     "execution_count": 7,
     "metadata": {
      "tags": []
     },
     "output_type": "execute_result"
    }
   ],
   "source": [
    "trace0 = go.Scatter(x=goog.date, y=goog.close, name='GOOG', line=dict(color='lime'))\n",
    "trace1 = go.Scatter(x=amzn.date, y=amzn.close, name='AMZN', line=dict(color='grey'))\n",
    "data = [trace0, trace1]\n",
    "\n",
    "layout = dict(\n",
    "    title='Google ve Amazon Hisse Senedi Fiyatları',\n",
    "    xaxis=dict(\n",
    "        rangeselector=dict(\n",
    "            buttons=list([\n",
    "                dict(count=1,\n",
    "                     label='1m',\n",
    "                     step='month',\n",
    "                     stepmode='backward'),\n",
    "                dict(count=3,\n",
    "                     label='3m',\n",
    "                     step='month',\n",
    "                     stepmode='backward'),\n",
    "                dict(count=6,\n",
    "                     label='6m',\n",
    "                     step='month',\n",
    "                     stepmode='backward'),\n",
    "                dict(count=12,\n",
    "                     label='12m',\n",
    "                     step='month',\n",
    "                     stepmode='backward')\n",
    "            ])\n",
    "        ),\n",
    "        rangeslider=dict(\n",
    "            visible = True\n",
    "        ),\n",
    "        type='date'\n",
    "    )\n",
    ")\n",
    "\n",
    "fig = dict(data=data, layout=layout)\n",
    "py.iplot(fig)"
   ]
  },
  {
   "cell_type": "markdown",
   "metadata": {
    "colab_type": "text",
    "id": "4Fqv_bYVxpMC"
   },
   "source": [
    "Şimdi de grafiğimize dışardan müdahele edelim ve Amazon hisselerinin Google hisselerini geçtiği tarihe kırmızı bir çizgi çekelim. Layout kısmı biraz karışık gelebilir bu normal, değerlerle biraz oynayıp hata almanızı tavsiye ederim."
   ]
  },
  {
   "cell_type": "code",
   "execution_count": 0,
   "metadata": {
    "colab": {},
    "colab_type": "code",
    "id": "cZWqx314xpMD",
    "outputId": "940ea0ba-9498-46a1-d07c-14c67789914f"
   },
   "outputs": [
    {
     "data": {
      "text/html": [
       "<iframe id=\"igraph\" scrolling=\"no\" style=\"border:none;\" seamless=\"seamless\" src=\"https://plot.ly/~hkaansimsek/453.embed\" height=\"525px\" width=\"100%\"></iframe>"
      ],
      "text/plain": [
       "<plotly.tools.PlotlyDisplay object>"
      ]
     },
     "execution_count": 8,
     "metadata": {
      "tags": []
     },
     "output_type": "execute_result"
    }
   ],
   "source": [
    "trace0 = go.Scatter(x=goog.date, y=goog.close, name='GOOG', line=dict(color='lime'))\n",
    "trace1 = go.Scatter(x=amzn.date, y=amzn.close, name='AMZN', line=dict(color='grey'))\n",
    "data = [trace0, trace1]\n",
    "layout = {\n",
    "    'title': 'Google ve Amazon Hisse Senedi Fiyatları',\n",
    "    'yaxis': {'title': 'price ($)'},\n",
    "    'shapes': [{\n",
    "        'x0': '2017-10-20', 'x1': '2017-10-20',\n",
    "        'y0': 0, 'y1': 1, 'yref': 'paper',\n",
    "        'line': {'color': 'red', 'width': 1}\n",
    "    }],\n",
    "    'annotations': [{\n",
    "        'x': '2017-10-20',  'yref': 'paper',\n",
    "         'showarrow': False, 'xanchor': 'left',\n",
    "        'text': 'Change Point'\n",
    "    }]\n",
    "}\n",
    "fig = dict(data=data, layout=layout)\n",
    "py.iplot(fig)"
   ]
  },
  {
   "cell_type": "code",
   "execution_count": 0,
   "metadata": {
    "colab": {},
    "colab_type": "code",
    "id": "kxIFhkxTxpMI",
    "outputId": "b09d8f07-5f51-4866-838c-493dbfd73b43"
   },
   "outputs": [
    {
     "data": {
      "text/html": [
       "<iframe id=\"igraph\" scrolling=\"no\" style=\"border:none;\" seamless=\"seamless\" src=\"https://plot.ly/~hkaansimsek/467.embed\" height=\"525px\" width=\"100%\"></iframe>"
      ],
      "text/plain": [
       "<plotly.tools.PlotlyDisplay object>"
      ]
     },
     "execution_count": 17,
     "metadata": {
      "tags": []
     },
     "output_type": "execute_result"
    }
   ],
   "source": [
    "trace0 = go.Candlestick(x=goog.date,open=goog.open,high=goog.high, low=goog.low,close=goog.close)\n",
    "data = [trace0]\n",
    "layout =  dict(\n",
    "    title = \"Mum Grafik (GOOGLE)\"\n",
    ")\n",
    "fig = dict(data=data, layout=layout)\n",
    "py.iplot(fig)"
   ]
  },
  {
   "cell_type": "markdown",
   "metadata": {
    "colab_type": "text",
    "id": "fSASWEGOxpML"
   },
   "source": [
    "Scatterplot fonksiyonuna biraz ara verip seaborn ve matplotlib kütüphanelerinden alışkın olduğumuz boxplot fonksiyonunu interaktif olarak kullanalım şimdi de."
   ]
  },
  {
   "cell_type": "code",
   "execution_count": 0,
   "metadata": {
    "colab": {},
    "colab_type": "code",
    "id": "4O6zPBmPxpMM",
    "outputId": "e0916261-9768-4423-b5e7-34d3e35863d8"
   },
   "outputs": [
    {
     "data": {
      "text/html": [
       "<iframe id=\"igraph\" scrolling=\"no\" style=\"border:none;\" seamless=\"seamless\" src=\"https://plot.ly/~hkaansimsek/455.embed\" height=\"525px\" width=\"100%\"></iframe>"
      ],
      "text/plain": [
       "<plotly.tools.PlotlyDisplay object>"
      ]
     },
     "execution_count": 9,
     "metadata": {
      "tags": []
     },
     "output_type": "execute_result"
    }
   ],
   "source": [
    "trace0 = go.Box(\n",
    "    y=goog.close,\n",
    "    name = 'GOOG Close',\n",
    "    marker = dict(\n",
    "        color = 'red',\n",
    "    )\n",
    ")\n",
    "trace1 = go.Box(\n",
    "    y=amzn.close,\n",
    "    name = 'AMZN Close',\n",
    "    marker = dict(\n",
    "        color = 'navy',\n",
    "    )\n",
    ")\n",
    "data = [trace0, trace1]\n",
    "layout = dict(title='GOOGLE & AMAZON Hisse Senedi Fiyatları')\n",
    "fig = dict(data=data, layout=layout)\n",
    "py.iplot(fig)"
   ]
  },
  {
   "cell_type": "code",
   "execution_count": 0,
   "metadata": {
    "colab": {},
    "colab_type": "code",
    "id": "l3HOq4HoxpMR",
    "outputId": "821d2833-f4df-4bc5-9085-8138b12f308f"
   },
   "outputs": [
    {
     "data": {
      "text/html": [
       "<iframe id=\"igraph\" scrolling=\"no\" style=\"border:none;\" seamless=\"seamless\" src=\"https://plot.ly/~hkaansimsek/457.embed\" height=\"800px\" width=\"800px\"></iframe>"
      ],
      "text/plain": [
       "<plotly.tools.PlotlyDisplay object>"
      ]
     },
     "execution_count": 10,
     "metadata": {
      "tags": []
     },
     "output_type": "execute_result"
    }
   ],
   "source": [
    "import numpy as np\n",
    "import plotly.figure_factory as ff\n",
    "\n",
    "data = goog[['open','close','volume']]\n",
    "data[\"index\"] = np.arange(len(data))\n",
    "\n",
    "fig = ff.create_scatterplotmatrix(data, diag='box', index='index',size=3,\n",
    "                               height=800, width=800, colormap='RdBu')\n",
    "py.iplot(fig)"
   ]
  },
  {
   "cell_type": "markdown",
   "metadata": {
    "colab_type": "text",
    "id": "UHD50N7kxpMT"
   },
   "source": [
    "Plotly renk seçenekleri:\n",
    "\n",
    "- ‘Blackbody’\n",
    "- ‘Bluered’\n",
    "- ‘Blues’\n",
    "- ‘Earth’\n",
    "- ‘Electric’\n",
    "- ‘Greens’\n",
    "- ‘Greys’\n",
    "- ‘Hot’\n",
    "- ‘Jet’\n",
    "- ‘Picnic’\n",
    "- ‘Portland’\n",
    "- ‘Rainbow’\n",
    "- ‘RdBu’\n",
    "- ‘Reds’\n",
    "- ‘Viridis’\n",
    "- ‘YlGnBu’\n",
    "- ‘YlOrRd’"
   ]
  },
  {
   "cell_type": "markdown",
   "metadata": {
    "colab_type": "text",
    "id": "m4j7u07OxpMh"
   },
   "source": [
    "### BONUS\n",
    "#### Scatterpolar fonksiyonuyla polar koordinat düzleminde 2 hisse senedini kıyaslayalım. "
   ]
  },
  {
   "cell_type": "code",
   "execution_count": 0,
   "metadata": {
    "colab": {},
    "colab_type": "code",
    "id": "_mBmcHerxpMi",
    "outputId": "219f806e-83c5-4988-cf2c-ba54b2d52590"
   },
   "outputs": [
    {
     "data": {
      "text/html": [
       "<iframe id=\"igraph\" scrolling=\"no\" style=\"border:none;\" seamless=\"seamless\" src=\"https://plot.ly/~hkaansimsek/461.embed\" height=\"525px\" width=\"100%\"></iframe>"
      ],
      "text/plain": [
       "<plotly.tools.PlotlyDisplay object>"
      ]
     },
     "execution_count": 13,
     "metadata": {
      "tags": []
     },
     "output_type": "execute_result"
    }
   ],
   "source": [
    "trace0 = go.Scatterpolar(\n",
    "      r = [goog['close'].mean(),goog['open'].min(), goog['low'].min(),goog['high'].max()],\n",
    "      theta = ['close','open','low','high'], line =  dict(\n",
    "            color = 'pink'), name='GOOGLE',\n",
    "      fill = 'toself'\n",
    "    )\n",
    "trace1 = go.Scatterpolar(\n",
    "      r = [amzn['close'].mean(),amzn['open'].min(), amzn['low'].min(),amzn['high'].max()],\n",
    "      theta = ['close','open','low','high'], line =  dict(\n",
    "            color = 'navy'), name='AMAZON',\n",
    "      fill = 'toself'\n",
    "    )\n",
    "data = [trace0,trace1]\n",
    "layout = go.Layout(\n",
    "      polar = dict(\n",
    "        radialaxis = dict(\n",
    "          visible = True)),\n",
    "            title='GOOGLE vs AMAZON')\n",
    "\n",
    "fig = dict(data=data, layout=layout)\n",
    "py.iplot(fig)"
   ]
  }
 ],
 "metadata": {
  "colab": {
   "name": "plotly_1.ipynb",
   "provenance": [],
   "version": "0.3.2"
  },
  "kernelspec": {
   "display_name": "Python 3",
   "language": "python",
   "name": "python3"
  },
  "language_info": {
   "codemirror_mode": {
    "name": "ipython",
    "version": 3
   },
   "file_extension": ".py",
   "mimetype": "text/x-python",
   "name": "python",
   "nbconvert_exporter": "python",
   "pygments_lexer": "ipython3",
   "version": "3.6.4"
  }
 },
 "nbformat": 4,
 "nbformat_minor": 1
}
