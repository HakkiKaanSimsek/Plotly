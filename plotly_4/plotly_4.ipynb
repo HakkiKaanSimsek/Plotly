{
 "cells": [
  {
   "cell_type": "code",
   "execution_count": 1,
   "metadata": {},
   "outputs": [
    {
     "data": {
      "text/html": [
       "<script>requirejs.config({paths: { 'plotly': ['https://cdn.plot.ly/plotly-latest.min']},});if(!window.Plotly) {{require(['plotly'],function(plotly) {window.Plotly=plotly;});}}</script>"
      ],
      "text/vnd.plotly.v1+html": [
       "<script>requirejs.config({paths: { 'plotly': ['https://cdn.plot.ly/plotly-latest.min']},});if(!window.Plotly) {{require(['plotly'],function(plotly) {window.Plotly=plotly;});}}</script>"
      ]
     },
     "metadata": {},
     "output_type": "display_data"
    },
    {
     "data": {
      "text/html": [
       "<div>\n",
       "<style scoped>\n",
       "    .dataframe tbody tr th:only-of-type {\n",
       "        vertical-align: middle;\n",
       "    }\n",
       "\n",
       "    .dataframe tbody tr th {\n",
       "        vertical-align: top;\n",
       "    }\n",
       "\n",
       "    .dataframe thead th {\n",
       "        text-align: right;\n",
       "    }\n",
       "</style>\n",
       "<table border=\"1\" class=\"dataframe\">\n",
       "  <thead>\n",
       "    <tr style=\"text-align: right;\">\n",
       "      <th></th>\n",
       "      <th>GenderSelect</th>\n",
       "      <th>Country</th>\n",
       "      <th>Age</th>\n",
       "      <th>EmploymentStatus</th>\n",
       "      <th>StudentStatus</th>\n",
       "      <th>LearningDataScience</th>\n",
       "      <th>CodeWriter</th>\n",
       "      <th>CareerSwitcher</th>\n",
       "      <th>CurrentJobTitleSelect</th>\n",
       "      <th>TitleFit</th>\n",
       "      <th>...</th>\n",
       "      <th>JobFactorExperienceLevel</th>\n",
       "      <th>JobFactorDepartment</th>\n",
       "      <th>JobFactorTitle</th>\n",
       "      <th>JobFactorCompanyFunding</th>\n",
       "      <th>JobFactorImpact</th>\n",
       "      <th>JobFactorRemote</th>\n",
       "      <th>JobFactorIndustry</th>\n",
       "      <th>JobFactorLeaderReputation</th>\n",
       "      <th>JobFactorDiversity</th>\n",
       "      <th>JobFactorPublishingOpportunity</th>\n",
       "    </tr>\n",
       "  </thead>\n",
       "  <tbody>\n",
       "    <tr>\n",
       "      <th>0</th>\n",
       "      <td>Non-binary, genderqueer, or gender non-conforming</td>\n",
       "      <td>NaN</td>\n",
       "      <td>NaN</td>\n",
       "      <td>Employed full-time</td>\n",
       "      <td>NaN</td>\n",
       "      <td>NaN</td>\n",
       "      <td>Yes</td>\n",
       "      <td>NaN</td>\n",
       "      <td>DBA/Database Engineer</td>\n",
       "      <td>Fine</td>\n",
       "      <td>...</td>\n",
       "      <td>NaN</td>\n",
       "      <td>NaN</td>\n",
       "      <td>NaN</td>\n",
       "      <td>NaN</td>\n",
       "      <td>NaN</td>\n",
       "      <td>NaN</td>\n",
       "      <td>NaN</td>\n",
       "      <td>NaN</td>\n",
       "      <td>NaN</td>\n",
       "      <td>NaN</td>\n",
       "    </tr>\n",
       "    <tr>\n",
       "      <th>1</th>\n",
       "      <td>Female</td>\n",
       "      <td>United States</td>\n",
       "      <td>30.0</td>\n",
       "      <td>Not employed, but looking for work</td>\n",
       "      <td>NaN</td>\n",
       "      <td>NaN</td>\n",
       "      <td>NaN</td>\n",
       "      <td>NaN</td>\n",
       "      <td>NaN</td>\n",
       "      <td>NaN</td>\n",
       "      <td>...</td>\n",
       "      <td>NaN</td>\n",
       "      <td>NaN</td>\n",
       "      <td>NaN</td>\n",
       "      <td>NaN</td>\n",
       "      <td>NaN</td>\n",
       "      <td>NaN</td>\n",
       "      <td>NaN</td>\n",
       "      <td>Somewhat important</td>\n",
       "      <td>NaN</td>\n",
       "      <td>NaN</td>\n",
       "    </tr>\n",
       "    <tr>\n",
       "      <th>2</th>\n",
       "      <td>Male</td>\n",
       "      <td>Canada</td>\n",
       "      <td>28.0</td>\n",
       "      <td>Not employed, but looking for work</td>\n",
       "      <td>NaN</td>\n",
       "      <td>NaN</td>\n",
       "      <td>NaN</td>\n",
       "      <td>NaN</td>\n",
       "      <td>NaN</td>\n",
       "      <td>NaN</td>\n",
       "      <td>...</td>\n",
       "      <td>Very Important</td>\n",
       "      <td>Very Important</td>\n",
       "      <td>Very Important</td>\n",
       "      <td>Very Important</td>\n",
       "      <td>Very Important</td>\n",
       "      <td>Very Important</td>\n",
       "      <td>Very Important</td>\n",
       "      <td>Very Important</td>\n",
       "      <td>Very Important</td>\n",
       "      <td>Very Important</td>\n",
       "    </tr>\n",
       "    <tr>\n",
       "      <th>3</th>\n",
       "      <td>Male</td>\n",
       "      <td>United States</td>\n",
       "      <td>56.0</td>\n",
       "      <td>Independent contractor, freelancer, or self-em...</td>\n",
       "      <td>NaN</td>\n",
       "      <td>NaN</td>\n",
       "      <td>Yes</td>\n",
       "      <td>NaN</td>\n",
       "      <td>Operations Research Practitioner</td>\n",
       "      <td>Poorly</td>\n",
       "      <td>...</td>\n",
       "      <td>NaN</td>\n",
       "      <td>NaN</td>\n",
       "      <td>NaN</td>\n",
       "      <td>NaN</td>\n",
       "      <td>NaN</td>\n",
       "      <td>NaN</td>\n",
       "      <td>NaN</td>\n",
       "      <td>NaN</td>\n",
       "      <td>NaN</td>\n",
       "      <td>NaN</td>\n",
       "    </tr>\n",
       "    <tr>\n",
       "      <th>4</th>\n",
       "      <td>Male</td>\n",
       "      <td>Taiwan</td>\n",
       "      <td>38.0</td>\n",
       "      <td>Employed full-time</td>\n",
       "      <td>NaN</td>\n",
       "      <td>NaN</td>\n",
       "      <td>Yes</td>\n",
       "      <td>NaN</td>\n",
       "      <td>Computer Scientist</td>\n",
       "      <td>Fine</td>\n",
       "      <td>...</td>\n",
       "      <td>NaN</td>\n",
       "      <td>NaN</td>\n",
       "      <td>NaN</td>\n",
       "      <td>NaN</td>\n",
       "      <td>NaN</td>\n",
       "      <td>NaN</td>\n",
       "      <td>NaN</td>\n",
       "      <td>NaN</td>\n",
       "      <td>NaN</td>\n",
       "      <td>NaN</td>\n",
       "    </tr>\n",
       "  </tbody>\n",
       "</table>\n",
       "<p>5 rows × 228 columns</p>\n",
       "</div>"
      ],
      "text/plain": [
       "                                        GenderSelect        Country   Age  \\\n",
       "0  Non-binary, genderqueer, or gender non-conforming            NaN   NaN   \n",
       "1                                             Female  United States  30.0   \n",
       "2                                               Male         Canada  28.0   \n",
       "3                                               Male  United States  56.0   \n",
       "4                                               Male         Taiwan  38.0   \n",
       "\n",
       "                                    EmploymentStatus StudentStatus  \\\n",
       "0                                 Employed full-time           NaN   \n",
       "1                 Not employed, but looking for work           NaN   \n",
       "2                 Not employed, but looking for work           NaN   \n",
       "3  Independent contractor, freelancer, or self-em...           NaN   \n",
       "4                                 Employed full-time           NaN   \n",
       "\n",
       "  LearningDataScience CodeWriter CareerSwitcher  \\\n",
       "0                 NaN        Yes            NaN   \n",
       "1                 NaN        NaN            NaN   \n",
       "2                 NaN        NaN            NaN   \n",
       "3                 NaN        Yes            NaN   \n",
       "4                 NaN        Yes            NaN   \n",
       "\n",
       "              CurrentJobTitleSelect TitleFit              ...                \\\n",
       "0             DBA/Database Engineer     Fine              ...                 \n",
       "1                               NaN      NaN              ...                 \n",
       "2                               NaN      NaN              ...                 \n",
       "3  Operations Research Practitioner   Poorly              ...                 \n",
       "4                Computer Scientist     Fine              ...                 \n",
       "\n",
       "  JobFactorExperienceLevel JobFactorDepartment  JobFactorTitle  \\\n",
       "0                      NaN                 NaN             NaN   \n",
       "1                      NaN                 NaN             NaN   \n",
       "2           Very Important      Very Important  Very Important   \n",
       "3                      NaN                 NaN             NaN   \n",
       "4                      NaN                 NaN             NaN   \n",
       "\n",
       "  JobFactorCompanyFunding JobFactorImpact JobFactorRemote JobFactorIndustry  \\\n",
       "0                     NaN             NaN             NaN               NaN   \n",
       "1                     NaN             NaN             NaN               NaN   \n",
       "2          Very Important  Very Important  Very Important    Very Important   \n",
       "3                     NaN             NaN             NaN               NaN   \n",
       "4                     NaN             NaN             NaN               NaN   \n",
       "\n",
       "  JobFactorLeaderReputation JobFactorDiversity JobFactorPublishingOpportunity  \n",
       "0                       NaN                NaN                            NaN  \n",
       "1        Somewhat important                NaN                            NaN  \n",
       "2            Very Important     Very Important                 Very Important  \n",
       "3                       NaN                NaN                            NaN  \n",
       "4                       NaN                NaN                            NaN  \n",
       "\n",
       "[5 rows x 228 columns]"
      ]
     },
     "execution_count": 1,
     "metadata": {},
     "output_type": "execute_result"
    }
   ],
   "source": [
    "import pandas as pd\n",
    "import numpy as np\n",
    "import warnings\n",
    "warnings.filterwarnings('ignore')\n",
    "\n",
    "import plotly.offline as py\n",
    "import plotly.graph_objs as go\n",
    "py.init_notebook_mode(connected=True)\n",
    "from plotly import tools\n",
    "import plotly.figure_factory as ff\n",
    "\n",
    "mcr = pd.read_csv('data/multipleChoiceResponses.csv',encoding='ISO-8859-1')\n",
    "mcr.head()"
   ]
  },
  {
   "cell_type": "code",
   "execution_count": 2,
   "metadata": {},
   "outputs": [],
   "source": [
    "course = mcr['CoursePlatformSelect'].str.split(',')\n",
    "course_set = []\n",
    "for i in course.dropna():\n",
    "    course_set.extend(i)\n",
    "courses = pd.Series(course_set).value_counts()[:5].sort_values(ascending = False).to_frame()  \n",
    "\n",
    "learning = mcr['LearningPlatformSelect'].str.split(',')\n",
    "learning_set = []\n",
    "for i in learning.dropna():\n",
    "    learning_set.extend(i)\n",
    "learn = pd.Series(learning_set).value_counts()[:5].sort_values(ascending = False).to_frame() "
   ]
  },
  {
   "cell_type": "code",
   "execution_count": 3,
   "metadata": {},
   "outputs": [
    {
     "name": "stdout",
     "output_type": "stream",
     "text": [
      "This is the format of your plot grid:\n",
      "[ (1,1) x1,y1 ]  [ (1,2) x2,y2 ]\n",
      "\n"
     ]
    },
    {
     "data": {
      "application/vnd.plotly.v1+json": {
       "data": [
        {
         "type": "bar",
         "uid": "6e11fe1c-c664-11e8-912b-3fbd971bcfab",
         "x": [
          "Coursera",
          "Udacity",
          "edX",
          "DataCamp",
          "Other"
         ],
         "xaxis": "x",
         "y": [
          1725,
          805,
          710,
          638,
          356
         ],
         "yaxis": "y"
        },
        {
         "type": "bar",
         "uid": "6e134ccc-c664-11e8-912b-3fbd971bcfab",
         "x": [
          "Kaggle",
          "Online courses",
          "Stack Overflow Q&A",
          "YouTube Videos",
          "Personal Projects"
         ],
         "xaxis": "x2",
         "y": [
          6645,
          6042,
          5703,
          5291,
          4873
         ],
         "yaxis": "y2"
        }
       ],
       "layout": {
        "xaxis": {
         "anchor": "y",
         "domain": [
          0,
          0.45
         ]
        },
        "xaxis2": {
         "anchor": "y2",
         "domain": [
          0.55,
          1
         ]
        },
        "yaxis": {
         "anchor": "x",
         "domain": [
          0,
          1
         ]
        },
        "yaxis2": {
         "anchor": "x2",
         "domain": [
          0,
          1
         ]
        }
       }
      },
      "text/html": [
       "<div id=\"cd231656-1759-414f-a528-c0775999212f\" style=\"height: 525px; width: 100%;\" class=\"plotly-graph-div\"></div><script type=\"text/javascript\">require([\"plotly\"], function(Plotly) { window.PLOTLYENV=window.PLOTLYENV || {};window.PLOTLYENV.BASE_URL=\"https://plot.ly\";\n",
       "        Plotly.plot(\n",
       "            'cd231656-1759-414f-a528-c0775999212f',\n",
       "            [{\"x\": [\"Coursera\", \"Udacity\", \"edX\", \"DataCamp\", \"Other\"], \"y\": [1725.0, 805.0, 710.0, 638.0, 356.0], \"type\": \"bar\", \"uid\": \"6e11fe1c-c664-11e8-912b-3fbd971bcfab\", \"xaxis\": \"x\", \"yaxis\": \"y\"}, {\"x\": [\"Kaggle\", \"Online courses\", \"Stack Overflow Q&A\", \"YouTube Videos\", \"Personal Projects\"], \"y\": [6645.0, 6042.0, 5703.0, 5291.0, 4873.0], \"type\": \"bar\", \"uid\": \"6e134ccc-c664-11e8-912b-3fbd971bcfab\", \"xaxis\": \"x2\", \"yaxis\": \"y2\"}],\n",
       "            {\"xaxis\": {\"anchor\": \"y\", \"domain\": [0.0, 0.45]}, \"yaxis\": {\"anchor\": \"x\", \"domain\": [0.0, 1.0]}, \"xaxis2\": {\"anchor\": \"y2\", \"domain\": [0.55, 1.0]}, \"yaxis2\": {\"anchor\": \"x2\", \"domain\": [0.0, 1.0]}},\n",
       "            {\"showLink\": true, \"linkText\": \"Export to plot.ly\"}\n",
       "        ).then(function () {return Plotly.addFrames('cd231656-1759-414f-a528-c0775999212f',{});}).then(function(){Plotly.animate('cd231656-1759-414f-a528-c0775999212f');})\n",
       "        });</script>"
      ],
      "text/vnd.plotly.v1+html": [
       "<div id=\"cd231656-1759-414f-a528-c0775999212f\" style=\"height: 525px; width: 100%;\" class=\"plotly-graph-div\"></div><script type=\"text/javascript\">require([\"plotly\"], function(Plotly) { window.PLOTLYENV=window.PLOTLYENV || {};window.PLOTLYENV.BASE_URL=\"https://plot.ly\";\n",
       "        Plotly.plot(\n",
       "            'cd231656-1759-414f-a528-c0775999212f',\n",
       "            [{\"x\": [\"Coursera\", \"Udacity\", \"edX\", \"DataCamp\", \"Other\"], \"y\": [1725.0, 805.0, 710.0, 638.0, 356.0], \"type\": \"bar\", \"uid\": \"6e11fe1c-c664-11e8-912b-3fbd971bcfab\", \"xaxis\": \"x\", \"yaxis\": \"y\"}, {\"x\": [\"Kaggle\", \"Online courses\", \"Stack Overflow Q&A\", \"YouTube Videos\", \"Personal Projects\"], \"y\": [6645.0, 6042.0, 5703.0, 5291.0, 4873.0], \"type\": \"bar\", \"uid\": \"6e134ccc-c664-11e8-912b-3fbd971bcfab\", \"xaxis\": \"x2\", \"yaxis\": \"y2\"}],\n",
       "            {\"xaxis\": {\"anchor\": \"y\", \"domain\": [0.0, 0.45]}, \"yaxis\": {\"anchor\": \"x\", \"domain\": [0.0, 1.0]}, \"xaxis2\": {\"anchor\": \"y2\", \"domain\": [0.55, 1.0]}, \"yaxis2\": {\"anchor\": \"x2\", \"domain\": [0.0, 1.0]}},\n",
       "            {\"showLink\": true, \"linkText\": \"Export to plot.ly\"}\n",
       "        ).then(function () {return Plotly.addFrames('cd231656-1759-414f-a528-c0775999212f',{});}).then(function(){Plotly.animate('cd231656-1759-414f-a528-c0775999212f');})\n",
       "        });</script>"
      ]
     },
     "metadata": {},
     "output_type": "display_data"
    }
   ],
   "source": [
    "trace1 = go.Bar(\n",
    "    x=courses.index,\n",
    "    y=courses[0]\n",
    "    )\n",
    " \n",
    "trace2 = go.Bar(\n",
    "    x=learn.index,\n",
    "    y=learn[0]\n",
    "    )\n",
    "\n",
    "fig = tools.make_subplots(rows=1, cols=2)\n",
    "fig.append_trace(trace1, 1,1)\n",
    "fig.append_trace(trace2, 1,2)                     \n",
    "py.iplot(fig)"
   ]
  },
  {
   "cell_type": "code",
   "execution_count": 4,
   "metadata": {},
   "outputs": [
    {
     "name": "stdout",
     "output_type": "stream",
     "text": [
      "This is the format of your plot grid:\n",
      "[ (1,1) x1,y1 ]  [ (1,2) x2,y2 ]\n",
      "\n"
     ]
    },
    {
     "data": {
      "application/vnd.plotly.v1+json": {
       "data": [
        {
         "marker": {
          "color": "aqua"
         },
         "name": "kurs",
         "type": "bar",
         "uid": "6e27c4e0-c664-11e8-912b-3fbd971bcfab",
         "x": [
          "Coursera",
          "Udacity",
          "edX",
          "DataCamp",
          "Other"
         ],
         "xaxis": "x",
         "y": [
          1725,
          805,
          710,
          638,
          356
         ],
         "yaxis": "y"
        },
        {
         "marker": {
          "color": "red"
         },
         "name": "platform",
         "type": "bar",
         "uid": "6e292330-c664-11e8-912b-3fbd971bcfab",
         "x": [
          "Kaggle",
          "Online courses",
          "Stack Overflow Q&A",
          "YouTube Videos",
          "Personal Projects"
         ],
         "xaxis": "x2",
         "y": [
          6645,
          6042,
          5703,
          5291,
          4873
         ],
         "yaxis": "y2"
        }
       ],
       "layout": {
        "xaxis": {
         "anchor": "y",
         "domain": [
          0,
          0.45
         ]
        },
        "xaxis2": {
         "anchor": "y2",
         "domain": [
          0.55,
          1
         ]
        },
        "yaxis": {
         "anchor": "x",
         "domain": [
          0,
          1
         ]
        },
        "yaxis2": {
         "anchor": "x2",
         "domain": [
          0,
          1
         ]
        }
       }
      },
      "text/html": [
       "<div id=\"8c8f5863-2b15-441c-ac03-bb1c7d948a0e\" style=\"height: 525px; width: 100%;\" class=\"plotly-graph-div\"></div><script type=\"text/javascript\">require([\"plotly\"], function(Plotly) { window.PLOTLYENV=window.PLOTLYENV || {};window.PLOTLYENV.BASE_URL=\"https://plot.ly\";\n",
       "        Plotly.plot(\n",
       "            '8c8f5863-2b15-441c-ac03-bb1c7d948a0e',\n",
       "            [{\"marker\": {\"color\": \"aqua\"}, \"name\": \"kurs\", \"x\": [\"Coursera\", \"Udacity\", \"edX\", \"DataCamp\", \"Other\"], \"y\": [1725.0, 805.0, 710.0, 638.0, 356.0], \"type\": \"bar\", \"uid\": \"6e27c4e0-c664-11e8-912b-3fbd971bcfab\", \"xaxis\": \"x\", \"yaxis\": \"y\"}, {\"marker\": {\"color\": \"red\"}, \"name\": \"platform\", \"x\": [\"Kaggle\", \"Online courses\", \"Stack Overflow Q&A\", \"YouTube Videos\", \"Personal Projects\"], \"y\": [6645.0, 6042.0, 5703.0, 5291.0, 4873.0], \"type\": \"bar\", \"uid\": \"6e292330-c664-11e8-912b-3fbd971bcfab\", \"xaxis\": \"x2\", \"yaxis\": \"y2\"}],\n",
       "            {\"xaxis\": {\"anchor\": \"y\", \"domain\": [0.0, 0.45]}, \"yaxis\": {\"anchor\": \"x\", \"domain\": [0.0, 1.0]}, \"xaxis2\": {\"anchor\": \"y2\", \"domain\": [0.55, 1.0]}, \"yaxis2\": {\"anchor\": \"x2\", \"domain\": [0.0, 1.0]}},\n",
       "            {\"showLink\": true, \"linkText\": \"Export to plot.ly\"}\n",
       "        ).then(function () {return Plotly.addFrames('8c8f5863-2b15-441c-ac03-bb1c7d948a0e',{});}).then(function(){Plotly.animate('8c8f5863-2b15-441c-ac03-bb1c7d948a0e');})\n",
       "        });</script>"
      ],
      "text/vnd.plotly.v1+html": [
       "<div id=\"8c8f5863-2b15-441c-ac03-bb1c7d948a0e\" style=\"height: 525px; width: 100%;\" class=\"plotly-graph-div\"></div><script type=\"text/javascript\">require([\"plotly\"], function(Plotly) { window.PLOTLYENV=window.PLOTLYENV || {};window.PLOTLYENV.BASE_URL=\"https://plot.ly\";\n",
       "        Plotly.plot(\n",
       "            '8c8f5863-2b15-441c-ac03-bb1c7d948a0e',\n",
       "            [{\"marker\": {\"color\": \"aqua\"}, \"name\": \"kurs\", \"x\": [\"Coursera\", \"Udacity\", \"edX\", \"DataCamp\", \"Other\"], \"y\": [1725.0, 805.0, 710.0, 638.0, 356.0], \"type\": \"bar\", \"uid\": \"6e27c4e0-c664-11e8-912b-3fbd971bcfab\", \"xaxis\": \"x\", \"yaxis\": \"y\"}, {\"marker\": {\"color\": \"red\"}, \"name\": \"platform\", \"x\": [\"Kaggle\", \"Online courses\", \"Stack Overflow Q&A\", \"YouTube Videos\", \"Personal Projects\"], \"y\": [6645.0, 6042.0, 5703.0, 5291.0, 4873.0], \"type\": \"bar\", \"uid\": \"6e292330-c664-11e8-912b-3fbd971bcfab\", \"xaxis\": \"x2\", \"yaxis\": \"y2\"}],\n",
       "            {\"xaxis\": {\"anchor\": \"y\", \"domain\": [0.0, 0.45]}, \"yaxis\": {\"anchor\": \"x\", \"domain\": [0.0, 1.0]}, \"xaxis2\": {\"anchor\": \"y2\", \"domain\": [0.55, 1.0]}, \"yaxis2\": {\"anchor\": \"x2\", \"domain\": [0.0, 1.0]}},\n",
       "            {\"showLink\": true, \"linkText\": \"Export to plot.ly\"}\n",
       "        ).then(function () {return Plotly.addFrames('8c8f5863-2b15-441c-ac03-bb1c7d948a0e',{});}).then(function(){Plotly.animate('8c8f5863-2b15-441c-ac03-bb1c7d948a0e');})\n",
       "        });</script>"
      ]
     },
     "metadata": {},
     "output_type": "display_data"
    }
   ],
   "source": [
    "trace1 = go.Bar(\n",
    "    x=courses.index,\n",
    "    y=courses[0],\n",
    "    name = 'kurs',\n",
    "    marker=dict(\n",
    "        color = ('aqua')\n",
    "    )\n",
    ")\n",
    " \n",
    "trace2 = go.Bar(\n",
    "    x=learn.index,\n",
    "    y=learn[0],\n",
    "    name = 'platform',\n",
    "     marker=dict(\n",
    "        color = ('red')\n",
    "    )\n",
    ")\n",
    "\n",
    "fig = tools.make_subplots(rows=1, cols=2)\n",
    "fig.append_trace(trace1, 1,1)\n",
    "fig.append_trace(trace2, 1,2)                     \n",
    "py.iplot(fig)"
   ]
  },
  {
   "cell_type": "code",
   "execution_count": 5,
   "metadata": {},
   "outputs": [
    {
     "name": "stdout",
     "output_type": "stream",
     "text": [
      "This is the format of your plot grid:\n",
      "[ (1,1) x1,y1 ]  [ (1,2) x2,y2 ]\n",
      "\n"
     ]
    },
    {
     "name": "stderr",
     "output_type": "stream",
     "text": [
      "/home/stats/anaconda3/lib/python3.6/site-packages/plotly/graph_objs/_deprecations.py:318: DeprecationWarning:\n",
      "\n",
      "plotly.graph_objs.Font is deprecated.\n",
      "Please replace it with one of the following more specific types\n",
      "  - plotly.graph_objs.layout.Font\n",
      "  - plotly.graph_objs.layout.hoverlabel.Font\n",
      "  - etc.\n",
      "\n",
      "\n"
     ]
    },
    {
     "data": {
      "application/vnd.plotly.v1+json": {
       "data": [
        {
         "marker": {
          "color": "aqua"
         },
         "name": "kurs",
         "type": "bar",
         "uid": "6e3ffae2-c664-11e8-912b-3fbd971bcfab",
         "x": [
          "Coursera",
          "Udacity",
          "edX",
          "DataCamp",
          "Other"
         ],
         "xaxis": "x",
         "y": [
          1725,
          805,
          710,
          638,
          356
         ],
         "yaxis": "y"
        },
        {
         "marker": {
          "color": "red"
         },
         "name": "platform",
         "type": "bar",
         "uid": "6e414316-c664-11e8-912b-3fbd971bcfab",
         "x": [
          "Kaggle",
          "Online courses",
          "Stack Overflow Q&A",
          "YouTube Videos",
          "Personal Projects"
         ],
         "xaxis": "x2",
         "y": [
          6645,
          6042,
          5703,
          5291,
          4873
         ],
         "yaxis": "y2"
        }
       ],
       "layout": {
        "annotations": [
         {
          "font": {
           "size": 16
          },
          "showarrow": false,
          "text": "Online Kurslar",
          "x": 0.225,
          "xanchor": "center",
          "xref": "paper",
          "y": 1,
          "yanchor": "bottom",
          "yref": "paper"
         },
         {
          "font": {
           "size": 16
          },
          "showarrow": false,
          "text": "Platformlar",
          "x": 0.775,
          "xanchor": "center",
          "xref": "paper",
          "y": 1,
          "yanchor": "bottom",
          "yref": "paper"
         }
        ],
        "height": 500,
        "title": "Veri Bilimine Başlangıç Rehberi",
        "width": 920,
        "xaxis": {
         "anchor": "y",
         "domain": [
          0,
          0.45
         ]
        },
        "xaxis2": {
         "anchor": "y2",
         "domain": [
          0.55,
          1
         ]
        },
        "yaxis": {
         "anchor": "x",
         "domain": [
          0,
          1
         ]
        },
        "yaxis2": {
         "anchor": "x2",
         "domain": [
          0,
          1
         ]
        }
       }
      },
      "text/html": [
       "<div id=\"4c41dbd5-1b24-4e83-a1a9-8a64e32dcf0c\" style=\"height: 500px; width: 920px;\" class=\"plotly-graph-div\"></div><script type=\"text/javascript\">require([\"plotly\"], function(Plotly) { window.PLOTLYENV=window.PLOTLYENV || {};window.PLOTLYENV.BASE_URL=\"https://plot.ly\";\n",
       "        Plotly.plot(\n",
       "            '4c41dbd5-1b24-4e83-a1a9-8a64e32dcf0c',\n",
       "            [{\"marker\": {\"color\": \"aqua\"}, \"name\": \"kurs\", \"x\": [\"Coursera\", \"Udacity\", \"edX\", \"DataCamp\", \"Other\"], \"y\": [1725.0, 805.0, 710.0, 638.0, 356.0], \"type\": \"bar\", \"uid\": \"6e3ffae2-c664-11e8-912b-3fbd971bcfab\", \"xaxis\": \"x\", \"yaxis\": \"y\"}, {\"marker\": {\"color\": \"red\"}, \"name\": \"platform\", \"x\": [\"Kaggle\", \"Online courses\", \"Stack Overflow Q&A\", \"YouTube Videos\", \"Personal Projects\"], \"y\": [6645.0, 6042.0, 5703.0, 5291.0, 4873.0], \"type\": \"bar\", \"uid\": \"6e414316-c664-11e8-912b-3fbd971bcfab\", \"xaxis\": \"x2\", \"yaxis\": \"y2\"}],\n",
       "            {\"annotations\": [{\"font\": {\"size\": 16}, \"showarrow\": false, \"text\": \"Online Kurslar\", \"x\": 0.225, \"xanchor\": \"center\", \"xref\": \"paper\", \"y\": 1.0, \"yanchor\": \"bottom\", \"yref\": \"paper\"}, {\"font\": {\"size\": 16}, \"showarrow\": false, \"text\": \"Platformlar\", \"x\": 0.775, \"xanchor\": \"center\", \"xref\": \"paper\", \"y\": 1.0, \"yanchor\": \"bottom\", \"yref\": \"paper\"}], \"xaxis\": {\"anchor\": \"y\", \"domain\": [0.0, 0.45]}, \"yaxis\": {\"anchor\": \"x\", \"domain\": [0.0, 1.0]}, \"xaxis2\": {\"anchor\": \"y2\", \"domain\": [0.55, 1.0]}, \"yaxis2\": {\"anchor\": \"x2\", \"domain\": [0.0, 1.0]}, \"height\": 500, \"width\": 920, \"title\": \"Veri Bilimine Ba\\u015flang\\u0131\\u00e7 Rehberi\"},\n",
       "            {\"showLink\": true, \"linkText\": \"Export to plot.ly\"}\n",
       "        ).then(function () {return Plotly.addFrames('4c41dbd5-1b24-4e83-a1a9-8a64e32dcf0c',{});}).then(function(){Plotly.animate('4c41dbd5-1b24-4e83-a1a9-8a64e32dcf0c');})\n",
       "        });</script>"
      ],
      "text/vnd.plotly.v1+html": [
       "<div id=\"4c41dbd5-1b24-4e83-a1a9-8a64e32dcf0c\" style=\"height: 500px; width: 920px;\" class=\"plotly-graph-div\"></div><script type=\"text/javascript\">require([\"plotly\"], function(Plotly) { window.PLOTLYENV=window.PLOTLYENV || {};window.PLOTLYENV.BASE_URL=\"https://plot.ly\";\n",
       "        Plotly.plot(\n",
       "            '4c41dbd5-1b24-4e83-a1a9-8a64e32dcf0c',\n",
       "            [{\"marker\": {\"color\": \"aqua\"}, \"name\": \"kurs\", \"x\": [\"Coursera\", \"Udacity\", \"edX\", \"DataCamp\", \"Other\"], \"y\": [1725.0, 805.0, 710.0, 638.0, 356.0], \"type\": \"bar\", \"uid\": \"6e3ffae2-c664-11e8-912b-3fbd971bcfab\", \"xaxis\": \"x\", \"yaxis\": \"y\"}, {\"marker\": {\"color\": \"red\"}, \"name\": \"platform\", \"x\": [\"Kaggle\", \"Online courses\", \"Stack Overflow Q&A\", \"YouTube Videos\", \"Personal Projects\"], \"y\": [6645.0, 6042.0, 5703.0, 5291.0, 4873.0], \"type\": \"bar\", \"uid\": \"6e414316-c664-11e8-912b-3fbd971bcfab\", \"xaxis\": \"x2\", \"yaxis\": \"y2\"}],\n",
       "            {\"annotations\": [{\"font\": {\"size\": 16}, \"showarrow\": false, \"text\": \"Online Kurslar\", \"x\": 0.225, \"xanchor\": \"center\", \"xref\": \"paper\", \"y\": 1.0, \"yanchor\": \"bottom\", \"yref\": \"paper\"}, {\"font\": {\"size\": 16}, \"showarrow\": false, \"text\": \"Platformlar\", \"x\": 0.775, \"xanchor\": \"center\", \"xref\": \"paper\", \"y\": 1.0, \"yanchor\": \"bottom\", \"yref\": \"paper\"}], \"xaxis\": {\"anchor\": \"y\", \"domain\": [0.0, 0.45]}, \"yaxis\": {\"anchor\": \"x\", \"domain\": [0.0, 1.0]}, \"xaxis2\": {\"anchor\": \"y2\", \"domain\": [0.55, 1.0]}, \"yaxis2\": {\"anchor\": \"x2\", \"domain\": [0.0, 1.0]}, \"height\": 500, \"width\": 920, \"title\": \"Veri Bilimine Ba\\u015flang\\u0131\\u00e7 Rehberi\"},\n",
       "            {\"showLink\": true, \"linkText\": \"Export to plot.ly\"}\n",
       "        ).then(function () {return Plotly.addFrames('4c41dbd5-1b24-4e83-a1a9-8a64e32dcf0c',{});}).then(function(){Plotly.animate('4c41dbd5-1b24-4e83-a1a9-8a64e32dcf0c');})\n",
       "        });</script>"
      ]
     },
     "metadata": {},
     "output_type": "display_data"
    }
   ],
   "source": [
    "trace1 = go.Bar(\n",
    "    x=courses.index,\n",
    "    y=courses[0],\n",
    "    name = 'kurs',\n",
    "    marker=dict(\n",
    "        color = ('aqua')\n",
    "    )\n",
    ")\n",
    " \n",
    "trace2 = go.Bar(\n",
    "    x=learn.index,\n",
    "    y=learn[0],\n",
    "    name = 'platform',\n",
    "    marker=dict(\n",
    "        color = ('red')\n",
    "    )\n",
    ")\n",
    "\n",
    "fig = tools.make_subplots(rows=1, cols=2, subplot_titles=('Online Kurslar', 'Platformlar'))\n",
    "fig.append_trace(trace1, 1,1)\n",
    "fig.append_trace(trace2, 1,2)\n",
    "fig['layout'].update(height=500, width=920, title='Veri Bilimine Başlangıç Rehberi')                        \n",
    "py.iplot(fig)"
   ]
  },
  {
   "cell_type": "code",
   "execution_count": 6,
   "metadata": {},
   "outputs": [],
   "source": [
    "mcr=mcr.dropna(subset=['WorkToolsSelect'])\n",
    "Python=mcr[(mcr['WorkToolsSelect'].str.contains('Python'))&(~mcr['WorkToolsSelect'].str.contains('R'))]\n",
    "R=mcr[(~mcr['WorkToolsSelect'].str.contains('Python'))&(mcr['WorkToolsSelect'].str.contains('R'))]\n",
    "\n",
    "colors = ['cyan', 'gold', 'bisque', '#D0F9B1', 'tan', 'lightgrey', 'lightblue', 'lightgreen', 'c', \n",
    "          'wheat', 'tomato', 'y', 'cyan', 'bisque', 'tan']\n",
    "\n",
    "py_major = Python['MajorSelect'].value_counts()[:8]\n",
    "label = py_major.index\n",
    "size = py_major.values\n",
    "\n",
    "r_major = R['MajorSelect'].value_counts()[:8]\n",
    "label1 = r_major.index\n",
    "size1 = r_major.values"
   ]
  },
  {
   "cell_type": "code",
   "execution_count": 7,
   "metadata": {},
   "outputs": [
    {
     "data": {
      "application/vnd.plotly.v1+json": {
       "data": [
        {
         "domain": {
          "x": [
           0,
           0.48
          ]
         },
         "labels": [
          "Computer Science",
          "Electrical Engineering",
          "Mathematics or statistics",
          "Physics",
          "Engineering (non-computer focused)",
          "Other",
          "Information technology, networking, or system administration",
          "A social science"
         ],
         "type": "pie",
         "uid": "6e5bff8a-c664-11e8-912b-3fbd971bcfab",
         "values": [
          881,
          289,
          251,
          236,
          207,
          121,
          102,
          52
         ]
        },
        {
         "domain": {
          "x": [
           0.52,
           1
          ]
         },
         "labels": [
          "Mathematics or statistics",
          "Computer Science",
          "Engineering (non-computer focused)",
          "Other",
          "A social science",
          "Electrical Engineering",
          "Physics",
          "Information technology, networking, or system administration"
         ],
         "type": "pie",
         "uid": "6e5c0232-c664-11e8-912b-3fbd971bcfab",
         "values": [
          305,
          219,
          117,
          84,
          78,
          54,
          51,
          42
         ]
        }
       ],
       "layout": {}
      },
      "text/html": [
       "<div id=\"b17a8840-3f99-414e-a050-9bafea05275c\" style=\"height: 525px; width: 100%;\" class=\"plotly-graph-div\"></div><script type=\"text/javascript\">require([\"plotly\"], function(Plotly) { window.PLOTLYENV=window.PLOTLYENV || {};window.PLOTLYENV.BASE_URL=\"https://plot.ly\";\n",
       "        Plotly.plot(\n",
       "            'b17a8840-3f99-414e-a050-9bafea05275c',\n",
       "            [{\"domain\": {\"x\": [0, 0.48]}, \"labels\": [\"Computer Science\", \"Electrical Engineering\", \"Mathematics or statistics\", \"Physics\", \"Engineering (non-computer focused)\", \"Other\", \"Information technology, networking, or system administration\", \"A social science\"], \"values\": [881.0, 289.0, 251.0, 236.0, 207.0, 121.0, 102.0, 52.0], \"type\": \"pie\", \"uid\": \"6e5bff8a-c664-11e8-912b-3fbd971bcfab\"}, {\"domain\": {\"x\": [0.52, 1]}, \"labels\": [\"Mathematics or statistics\", \"Computer Science\", \"Engineering (non-computer focused)\", \"Other\", \"A social science\", \"Electrical Engineering\", \"Physics\", \"Information technology, networking, or system administration\"], \"values\": [305.0, 219.0, 117.0, 84.0, 78.0, 54.0, 51.0, 42.0], \"type\": \"pie\", \"uid\": \"6e5c0232-c664-11e8-912b-3fbd971bcfab\"}],\n",
       "            {},\n",
       "            {\"showLink\": true, \"linkText\": \"Export to plot.ly\"}\n",
       "        ).then(function () {return Plotly.addFrames('b17a8840-3f99-414e-a050-9bafea05275c',{});}).then(function(){Plotly.animate('b17a8840-3f99-414e-a050-9bafea05275c');})\n",
       "        });</script>"
      ],
      "text/vnd.plotly.v1+html": [
       "<div id=\"b17a8840-3f99-414e-a050-9bafea05275c\" style=\"height: 525px; width: 100%;\" class=\"plotly-graph-div\"></div><script type=\"text/javascript\">require([\"plotly\"], function(Plotly) { window.PLOTLYENV=window.PLOTLYENV || {};window.PLOTLYENV.BASE_URL=\"https://plot.ly\";\n",
       "        Plotly.plot(\n",
       "            'b17a8840-3f99-414e-a050-9bafea05275c',\n",
       "            [{\"domain\": {\"x\": [0, 0.48]}, \"labels\": [\"Computer Science\", \"Electrical Engineering\", \"Mathematics or statistics\", \"Physics\", \"Engineering (non-computer focused)\", \"Other\", \"Information technology, networking, or system administration\", \"A social science\"], \"values\": [881.0, 289.0, 251.0, 236.0, 207.0, 121.0, 102.0, 52.0], \"type\": \"pie\", \"uid\": \"6e5bff8a-c664-11e8-912b-3fbd971bcfab\"}, {\"domain\": {\"x\": [0.52, 1]}, \"labels\": [\"Mathematics or statistics\", \"Computer Science\", \"Engineering (non-computer focused)\", \"Other\", \"A social science\", \"Electrical Engineering\", \"Physics\", \"Information technology, networking, or system administration\"], \"values\": [305.0, 219.0, 117.0, 84.0, 78.0, 54.0, 51.0, 42.0], \"type\": \"pie\", \"uid\": \"6e5c0232-c664-11e8-912b-3fbd971bcfab\"}],\n",
       "            {},\n",
       "            {\"showLink\": true, \"linkText\": \"Export to plot.ly\"}\n",
       "        ).then(function () {return Plotly.addFrames('b17a8840-3f99-414e-a050-9bafea05275c',{});}).then(function(){Plotly.animate('b17a8840-3f99-414e-a050-9bafea05275c');})\n",
       "        });</script>"
      ]
     },
     "metadata": {},
     "output_type": "display_data"
    }
   ],
   "source": [
    "trace1 = go.Pie(labels=label, values=size, domain  = dict(x = [0,.48]))\n",
    "trace2 = go.Pie(labels=label1, values=size1, domain  = dict(x = [0.52,1]))\n",
    "\n",
    "data = [trace1,trace2]\n",
    "fig = go.Figure(data=data)\n",
    "py.iplot(fig)"
   ]
  },
  {
   "cell_type": "code",
   "execution_count": 8,
   "metadata": {},
   "outputs": [
    {
     "data": {
      "application/vnd.plotly.v1+json": {
       "data": [
        {
         "domain": {
          "x": [
           0,
           0.48
          ]
         },
         "labels": [
          "Computer Science",
          "Electrical Engineering",
          "Mathematics or statistics",
          "Physics",
          "Engineering (non-computer focused)",
          "Other",
          "Information technology, networking, or system administration",
          "A social science"
         ],
         "type": "pie",
         "uid": "6e6f6b9c-c664-11e8-912b-3fbd971bcfab",
         "values": [
          881,
          289,
          251,
          236,
          207,
          121,
          102,
          52
         ]
        },
        {
         "domain": {
          "x": [
           0.52,
           1
          ]
         },
         "labels": [
          "Mathematics or statistics",
          "Computer Science",
          "Engineering (non-computer focused)",
          "Other",
          "A social science",
          "Electrical Engineering",
          "Physics",
          "Information technology, networking, or system administration"
         ],
         "type": "pie",
         "uid": "6e6f6e12-c664-11e8-912b-3fbd971bcfab",
         "values": [
          305,
          219,
          117,
          84,
          78,
          54,
          51,
          42
         ]
        }
       ],
       "layout": {
        "legend": {
         "orientation": "h"
        },
        "title": "Katılımcıların Bölümleri"
       }
      },
      "text/html": [
       "<div id=\"7cafdec3-c56d-4354-9883-c86bcc90a6b0\" style=\"height: 525px; width: 100%;\" class=\"plotly-graph-div\"></div><script type=\"text/javascript\">require([\"plotly\"], function(Plotly) { window.PLOTLYENV=window.PLOTLYENV || {};window.PLOTLYENV.BASE_URL=\"https://plot.ly\";\n",
       "        Plotly.plot(\n",
       "            '7cafdec3-c56d-4354-9883-c86bcc90a6b0',\n",
       "            [{\"domain\": {\"x\": [0, 0.48]}, \"labels\": [\"Computer Science\", \"Electrical Engineering\", \"Mathematics or statistics\", \"Physics\", \"Engineering (non-computer focused)\", \"Other\", \"Information technology, networking, or system administration\", \"A social science\"], \"values\": [881.0, 289.0, 251.0, 236.0, 207.0, 121.0, 102.0, 52.0], \"type\": \"pie\", \"uid\": \"6e6f6b9c-c664-11e8-912b-3fbd971bcfab\"}, {\"domain\": {\"x\": [0.52, 1]}, \"labels\": [\"Mathematics or statistics\", \"Computer Science\", \"Engineering (non-computer focused)\", \"Other\", \"A social science\", \"Electrical Engineering\", \"Physics\", \"Information technology, networking, or system administration\"], \"values\": [305.0, 219.0, 117.0, 84.0, 78.0, 54.0, 51.0, 42.0], \"type\": \"pie\", \"uid\": \"6e6f6e12-c664-11e8-912b-3fbd971bcfab\"}],\n",
       "            {\"legend\": {\"orientation\": \"h\"}, \"title\": \"Kat\\u0131l\\u0131mc\\u0131lar\\u0131n B\\u00f6l\\u00fcmleri\"},\n",
       "            {\"showLink\": true, \"linkText\": \"Export to plot.ly\"}\n",
       "        ).then(function () {return Plotly.addFrames('7cafdec3-c56d-4354-9883-c86bcc90a6b0',{});}).then(function(){Plotly.animate('7cafdec3-c56d-4354-9883-c86bcc90a6b0');})\n",
       "        });</script>"
      ],
      "text/vnd.plotly.v1+html": [
       "<div id=\"7cafdec3-c56d-4354-9883-c86bcc90a6b0\" style=\"height: 525px; width: 100%;\" class=\"plotly-graph-div\"></div><script type=\"text/javascript\">require([\"plotly\"], function(Plotly) { window.PLOTLYENV=window.PLOTLYENV || {};window.PLOTLYENV.BASE_URL=\"https://plot.ly\";\n",
       "        Plotly.plot(\n",
       "            '7cafdec3-c56d-4354-9883-c86bcc90a6b0',\n",
       "            [{\"domain\": {\"x\": [0, 0.48]}, \"labels\": [\"Computer Science\", \"Electrical Engineering\", \"Mathematics or statistics\", \"Physics\", \"Engineering (non-computer focused)\", \"Other\", \"Information technology, networking, or system administration\", \"A social science\"], \"values\": [881.0, 289.0, 251.0, 236.0, 207.0, 121.0, 102.0, 52.0], \"type\": \"pie\", \"uid\": \"6e6f6b9c-c664-11e8-912b-3fbd971bcfab\"}, {\"domain\": {\"x\": [0.52, 1]}, \"labels\": [\"Mathematics or statistics\", \"Computer Science\", \"Engineering (non-computer focused)\", \"Other\", \"A social science\", \"Electrical Engineering\", \"Physics\", \"Information technology, networking, or system administration\"], \"values\": [305.0, 219.0, 117.0, 84.0, 78.0, 54.0, 51.0, 42.0], \"type\": \"pie\", \"uid\": \"6e6f6e12-c664-11e8-912b-3fbd971bcfab\"}],\n",
       "            {\"legend\": {\"orientation\": \"h\"}, \"title\": \"Kat\\u0131l\\u0131mc\\u0131lar\\u0131n B\\u00f6l\\u00fcmleri\"},\n",
       "            {\"showLink\": true, \"linkText\": \"Export to plot.ly\"}\n",
       "        ).then(function () {return Plotly.addFrames('7cafdec3-c56d-4354-9883-c86bcc90a6b0',{});}).then(function(){Plotly.animate('7cafdec3-c56d-4354-9883-c86bcc90a6b0');})\n",
       "        });</script>"
      ]
     },
     "metadata": {},
     "output_type": "display_data"
    }
   ],
   "source": [
    "trace1 = go.Pie(labels=label, values=size, domain  = dict(x = [0,.48]))\n",
    "trace2 = go.Pie(labels=label1, values=size1, domain  = dict(x = [0.52,1]))\n",
    "\n",
    "data = [trace1,trace2]\n",
    "layout = go.Layout(\n",
    "        title='Katılımcıların Bölümleri',legend=dict(orientation=\"h\")\n",
    ")\n",
    "\n",
    "fig = go.Figure(data=data,layout=layout)\n",
    "py.iplot(fig)"
   ]
  },
  {
   "cell_type": "code",
   "execution_count": 9,
   "metadata": {},
   "outputs": [
    {
     "data": {
      "application/vnd.plotly.v1+json": {
       "data": [
        {
         "domain": {
          "x": [
           0,
           0.48
          ]
         },
         "labels": [
          "Computer Science",
          "Electrical Engineering",
          "Mathematics or statistics",
          "Physics",
          "Engineering (non-computer focused)",
          "Other",
          "Information technology, networking, or system administration",
          "A social science"
         ],
         "marker": {
          "colors": [
           "skyblue",
           "#FEBFB3",
           "#96D38C",
           "#D0F9B1",
           "gold",
           "orange",
           "lightgrey",
           "khaki",
           "lightgreen",
           "aqua"
          ]
         },
         "type": "pie",
         "uid": "6e86cd64-c664-11e8-912b-3fbd971bcfab",
         "values": [
          881,
          289,
          251,
          236,
          207,
          121,
          102,
          52
         ]
        },
        {
         "domain": {
          "x": [
           0.52,
           1
          ]
         },
         "labels": [
          "Mathematics or statistics",
          "Computer Science",
          "Engineering (non-computer focused)",
          "Other",
          "A social science",
          "Electrical Engineering",
          "Physics",
          "Information technology, networking, or system administration"
         ],
         "marker": {
          "colors": [
           "skyblue",
           "#FEBFB3",
           "#96D38C",
           "#D0F9B1",
           "gold",
           "orange",
           "lightgrey",
           "khaki",
           "lightgreen",
           "aqua"
          ]
         },
         "type": "pie",
         "uid": "6e86cfbc-c664-11e8-912b-3fbd971bcfab",
         "values": [
          305,
          219,
          117,
          84,
          78,
          54,
          51,
          42
         ]
        }
       ],
       "layout": {
        "legend": {
         "orientation": "h"
        },
        "title": "Katılımcıların Bölümleri"
       }
      },
      "text/html": [
       "<div id=\"50cc3259-ed8f-43c0-bc18-79d8c7e19cc4\" style=\"height: 525px; width: 100%;\" class=\"plotly-graph-div\"></div><script type=\"text/javascript\">require([\"plotly\"], function(Plotly) { window.PLOTLYENV=window.PLOTLYENV || {};window.PLOTLYENV.BASE_URL=\"https://plot.ly\";\n",
       "        Plotly.plot(\n",
       "            '50cc3259-ed8f-43c0-bc18-79d8c7e19cc4',\n",
       "            [{\"domain\": {\"x\": [0, 0.48]}, \"labels\": [\"Computer Science\", \"Electrical Engineering\", \"Mathematics or statistics\", \"Physics\", \"Engineering (non-computer focused)\", \"Other\", \"Information technology, networking, or system administration\", \"A social science\"], \"marker\": {\"colors\": [\"skyblue\", \"#FEBFB3\", \"#96D38C\", \"#D0F9B1\", \"gold\", \"orange\", \"lightgrey\", \"khaki\", \"lightgreen\", \"aqua\"]}, \"values\": [881.0, 289.0, 251.0, 236.0, 207.0, 121.0, 102.0, 52.0], \"type\": \"pie\", \"uid\": \"6e86cd64-c664-11e8-912b-3fbd971bcfab\"}, {\"domain\": {\"x\": [0.52, 1]}, \"labels\": [\"Mathematics or statistics\", \"Computer Science\", \"Engineering (non-computer focused)\", \"Other\", \"A social science\", \"Electrical Engineering\", \"Physics\", \"Information technology, networking, or system administration\"], \"marker\": {\"colors\": [\"skyblue\", \"#FEBFB3\", \"#96D38C\", \"#D0F9B1\", \"gold\", \"orange\", \"lightgrey\", \"khaki\", \"lightgreen\", \"aqua\"]}, \"values\": [305.0, 219.0, 117.0, 84.0, 78.0, 54.0, 51.0, 42.0], \"type\": \"pie\", \"uid\": \"6e86cfbc-c664-11e8-912b-3fbd971bcfab\"}],\n",
       "            {\"legend\": {\"orientation\": \"h\"}, \"title\": \"Kat\\u0131l\\u0131mc\\u0131lar\\u0131n B\\u00f6l\\u00fcmleri\"},\n",
       "            {\"showLink\": true, \"linkText\": \"Export to plot.ly\"}\n",
       "        ).then(function () {return Plotly.addFrames('50cc3259-ed8f-43c0-bc18-79d8c7e19cc4',{});}).then(function(){Plotly.animate('50cc3259-ed8f-43c0-bc18-79d8c7e19cc4');})\n",
       "        });</script>"
      ],
      "text/vnd.plotly.v1+html": [
       "<div id=\"50cc3259-ed8f-43c0-bc18-79d8c7e19cc4\" style=\"height: 525px; width: 100%;\" class=\"plotly-graph-div\"></div><script type=\"text/javascript\">require([\"plotly\"], function(Plotly) { window.PLOTLYENV=window.PLOTLYENV || {};window.PLOTLYENV.BASE_URL=\"https://plot.ly\";\n",
       "        Plotly.plot(\n",
       "            '50cc3259-ed8f-43c0-bc18-79d8c7e19cc4',\n",
       "            [{\"domain\": {\"x\": [0, 0.48]}, \"labels\": [\"Computer Science\", \"Electrical Engineering\", \"Mathematics or statistics\", \"Physics\", \"Engineering (non-computer focused)\", \"Other\", \"Information technology, networking, or system administration\", \"A social science\"], \"marker\": {\"colors\": [\"skyblue\", \"#FEBFB3\", \"#96D38C\", \"#D0F9B1\", \"gold\", \"orange\", \"lightgrey\", \"khaki\", \"lightgreen\", \"aqua\"]}, \"values\": [881.0, 289.0, 251.0, 236.0, 207.0, 121.0, 102.0, 52.0], \"type\": \"pie\", \"uid\": \"6e86cd64-c664-11e8-912b-3fbd971bcfab\"}, {\"domain\": {\"x\": [0.52, 1]}, \"labels\": [\"Mathematics or statistics\", \"Computer Science\", \"Engineering (non-computer focused)\", \"Other\", \"A social science\", \"Electrical Engineering\", \"Physics\", \"Information technology, networking, or system administration\"], \"marker\": {\"colors\": [\"skyblue\", \"#FEBFB3\", \"#96D38C\", \"#D0F9B1\", \"gold\", \"orange\", \"lightgrey\", \"khaki\", \"lightgreen\", \"aqua\"]}, \"values\": [305.0, 219.0, 117.0, 84.0, 78.0, 54.0, 51.0, 42.0], \"type\": \"pie\", \"uid\": \"6e86cfbc-c664-11e8-912b-3fbd971bcfab\"}],\n",
       "            {\"legend\": {\"orientation\": \"h\"}, \"title\": \"Kat\\u0131l\\u0131mc\\u0131lar\\u0131n B\\u00f6l\\u00fcmleri\"},\n",
       "            {\"showLink\": true, \"linkText\": \"Export to plot.ly\"}\n",
       "        ).then(function () {return Plotly.addFrames('50cc3259-ed8f-43c0-bc18-79d8c7e19cc4',{});}).then(function(){Plotly.animate('50cc3259-ed8f-43c0-bc18-79d8c7e19cc4');})\n",
       "        });</script>"
      ]
     },
     "metadata": {},
     "output_type": "display_data"
    }
   ],
   "source": [
    "colors = ['skyblue', '#FEBFB3', '#96D38C', '#D0F9B1', 'gold', 'orange', 'lightgrey', 'khaki','lightgreen','aqua']\n",
    "\n",
    "trace1 = go.Pie(labels=label, values=size, domain  = dict(x = [0,.48]),marker=dict(colors=colors))\n",
    "trace2 = go.Pie(labels=label1, values=size1, domain  = dict(x = [0.52,1]),marker=dict(colors=colors))\n",
    "\n",
    "data = [trace1,trace2]\n",
    "layout = go.Layout(\n",
    "        title='Katılımcıların Bölümleri',legend=dict(orientation=\"h\")\n",
    ")\n",
    "\n",
    "fig = go.Figure(data=data,layout=layout)\n",
    "py.iplot(fig)"
   ]
  },
  {
   "cell_type": "code",
   "execution_count": 10,
   "metadata": {},
   "outputs": [
    {
     "data": {
      "application/vnd.plotly.v1+json": {
       "data": [
        {
         "domain": {
          "x": [
           0,
           0.48
          ]
         },
         "hole": 0.2,
         "labels": [
          "Computer Science",
          "Electrical Engineering",
          "Mathematics or statistics",
          "Physics",
          "Engineering (non-computer focused)",
          "Other",
          "Information technology, networking, or system administration",
          "A social science"
         ],
         "marker": {
          "colors": [
           "skyblue",
           "#FEBFB3",
           "#96D38C",
           "#D0F9B1",
           "gold",
           "orange",
           "lightgrey",
           "khaki",
           "lightgreen",
           "aqua"
          ]
         },
         "type": "pie",
         "uid": "6e9eb668-c664-11e8-912b-3fbd971bcfab",
         "values": [
          881,
          289,
          251,
          236,
          207,
          121,
          102,
          52
         ]
        },
        {
         "domain": {
          "x": [
           0.52,
           1
          ]
         },
         "hole": 0.2,
         "labels": [
          "Mathematics or statistics",
          "Computer Science",
          "Engineering (non-computer focused)",
          "Other",
          "A social science",
          "Electrical Engineering",
          "Physics",
          "Information technology, networking, or system administration"
         ],
         "marker": {
          "colors": [
           "skyblue",
           "#FEBFB3",
           "#96D38C",
           "#D0F9B1",
           "gold",
           "orange",
           "lightgrey",
           "khaki",
           "lightgreen",
           "aqua"
          ]
         },
         "type": "pie",
         "uid": "6e9eb8c0-c664-11e8-912b-3fbd971bcfab",
         "values": [
          305,
          219,
          117,
          84,
          78,
          54,
          51,
          42
         ]
        }
       ],
       "layout": {
        "annotations": [
         {
          "font": {
           "size": 13
          },
          "showarrow": false,
          "text": "Python Kullanıcıları",
          "x": 0.18,
          "y": 1.1
         },
         {
          "font": {
           "size": 13
          },
          "showarrow": false,
          "text": "R Kullanıcıları",
          "x": 0.8,
          "y": 1.1
         }
        ],
        "legend": {
         "orientation": "h"
        },
        "title": "Katılımcıların Bölümleri"
       }
      },
      "text/html": [
       "<div id=\"be3ec710-ef81-4343-ae7a-caf94b870262\" style=\"height: 525px; width: 100%;\" class=\"plotly-graph-div\"></div><script type=\"text/javascript\">require([\"plotly\"], function(Plotly) { window.PLOTLYENV=window.PLOTLYENV || {};window.PLOTLYENV.BASE_URL=\"https://plot.ly\";\n",
       "        Plotly.plot(\n",
       "            'be3ec710-ef81-4343-ae7a-caf94b870262',\n",
       "            [{\"domain\": {\"x\": [0, 0.48]}, \"hole\": 0.2, \"labels\": [\"Computer Science\", \"Electrical Engineering\", \"Mathematics or statistics\", \"Physics\", \"Engineering (non-computer focused)\", \"Other\", \"Information technology, networking, or system administration\", \"A social science\"], \"marker\": {\"colors\": [\"skyblue\", \"#FEBFB3\", \"#96D38C\", \"#D0F9B1\", \"gold\", \"orange\", \"lightgrey\", \"khaki\", \"lightgreen\", \"aqua\"]}, \"values\": [881.0, 289.0, 251.0, 236.0, 207.0, 121.0, 102.0, 52.0], \"type\": \"pie\", \"uid\": \"6e9eb668-c664-11e8-912b-3fbd971bcfab\"}, {\"domain\": {\"x\": [0.52, 1]}, \"hole\": 0.2, \"labels\": [\"Mathematics or statistics\", \"Computer Science\", \"Engineering (non-computer focused)\", \"Other\", \"A social science\", \"Electrical Engineering\", \"Physics\", \"Information technology, networking, or system administration\"], \"marker\": {\"colors\": [\"skyblue\", \"#FEBFB3\", \"#96D38C\", \"#D0F9B1\", \"gold\", \"orange\", \"lightgrey\", \"khaki\", \"lightgreen\", \"aqua\"]}, \"values\": [305.0, 219.0, 117.0, 84.0, 78.0, 54.0, 51.0, 42.0], \"type\": \"pie\", \"uid\": \"6e9eb8c0-c664-11e8-912b-3fbd971bcfab\"}],\n",
       "            {\"annotations\": [{\"font\": {\"size\": 13}, \"showarrow\": false, \"text\": \"Python Kullan\\u0131c\\u0131lar\\u0131\", \"x\": 0.18, \"y\": 1.1}, {\"font\": {\"size\": 13}, \"showarrow\": false, \"text\": \"R Kullan\\u0131c\\u0131lar\\u0131\", \"x\": 0.8, \"y\": 1.1}], \"legend\": {\"orientation\": \"h\"}, \"title\": \"Kat\\u0131l\\u0131mc\\u0131lar\\u0131n B\\u00f6l\\u00fcmleri\"},\n",
       "            {\"showLink\": true, \"linkText\": \"Export to plot.ly\"}\n",
       "        ).then(function () {return Plotly.addFrames('be3ec710-ef81-4343-ae7a-caf94b870262',{});}).then(function(){Plotly.animate('be3ec710-ef81-4343-ae7a-caf94b870262');})\n",
       "        });</script>"
      ],
      "text/vnd.plotly.v1+html": [
       "<div id=\"be3ec710-ef81-4343-ae7a-caf94b870262\" style=\"height: 525px; width: 100%;\" class=\"plotly-graph-div\"></div><script type=\"text/javascript\">require([\"plotly\"], function(Plotly) { window.PLOTLYENV=window.PLOTLYENV || {};window.PLOTLYENV.BASE_URL=\"https://plot.ly\";\n",
       "        Plotly.plot(\n",
       "            'be3ec710-ef81-4343-ae7a-caf94b870262',\n",
       "            [{\"domain\": {\"x\": [0, 0.48]}, \"hole\": 0.2, \"labels\": [\"Computer Science\", \"Electrical Engineering\", \"Mathematics or statistics\", \"Physics\", \"Engineering (non-computer focused)\", \"Other\", \"Information technology, networking, or system administration\", \"A social science\"], \"marker\": {\"colors\": [\"skyblue\", \"#FEBFB3\", \"#96D38C\", \"#D0F9B1\", \"gold\", \"orange\", \"lightgrey\", \"khaki\", \"lightgreen\", \"aqua\"]}, \"values\": [881.0, 289.0, 251.0, 236.0, 207.0, 121.0, 102.0, 52.0], \"type\": \"pie\", \"uid\": \"6e9eb668-c664-11e8-912b-3fbd971bcfab\"}, {\"domain\": {\"x\": [0.52, 1]}, \"hole\": 0.2, \"labels\": [\"Mathematics or statistics\", \"Computer Science\", \"Engineering (non-computer focused)\", \"Other\", \"A social science\", \"Electrical Engineering\", \"Physics\", \"Information technology, networking, or system administration\"], \"marker\": {\"colors\": [\"skyblue\", \"#FEBFB3\", \"#96D38C\", \"#D0F9B1\", \"gold\", \"orange\", \"lightgrey\", \"khaki\", \"lightgreen\", \"aqua\"]}, \"values\": [305.0, 219.0, 117.0, 84.0, 78.0, 54.0, 51.0, 42.0], \"type\": \"pie\", \"uid\": \"6e9eb8c0-c664-11e8-912b-3fbd971bcfab\"}],\n",
       "            {\"annotations\": [{\"font\": {\"size\": 13}, \"showarrow\": false, \"text\": \"Python Kullan\\u0131c\\u0131lar\\u0131\", \"x\": 0.18, \"y\": 1.1}, {\"font\": {\"size\": 13}, \"showarrow\": false, \"text\": \"R Kullan\\u0131c\\u0131lar\\u0131\", \"x\": 0.8, \"y\": 1.1}], \"legend\": {\"orientation\": \"h\"}, \"title\": \"Kat\\u0131l\\u0131mc\\u0131lar\\u0131n B\\u00f6l\\u00fcmleri\"},\n",
       "            {\"showLink\": true, \"linkText\": \"Export to plot.ly\"}\n",
       "        ).then(function () {return Plotly.addFrames('be3ec710-ef81-4343-ae7a-caf94b870262',{});}).then(function(){Plotly.animate('be3ec710-ef81-4343-ae7a-caf94b870262');})\n",
       "        });</script>"
      ]
     },
     "metadata": {},
     "output_type": "display_data"
    }
   ],
   "source": [
    "trace1 = go.Pie(labels=label, values=size, domain  = dict(x = [0,.48]),marker=dict(colors=colors),hole = .2)\n",
    "trace2 = go.Pie(labels=label1, values=size1, domain  = dict(x = [0.52,1]),marker=dict(colors=colors),hole = .2)\n",
    "\n",
    "data = [trace1,trace2]\n",
    "layout = go.Layout(\n",
    "        title='Katılımcıların Bölümleri',legend=dict(orientation=\"h\"),annotations = [dict(text = \"Python Kullanıcıları\",\n",
    "                                                font = dict(size = 13),\n",
    "                                                showarrow = False,\n",
    "                                                x = .18, y = 1.1),\n",
    "                                           dict(text = \"R Kullanıcıları\",\n",
    "                                                font = dict(size = 13),\n",
    "                                                showarrow = False,\n",
    "                                                x = .8,y = 1.1\n",
    "                                               )\n",
    "                                          ]\n",
    ")\n",
    "\n",
    "fig = go.Figure(data=data,layout=layout)\n",
    "py.iplot(fig)"
   ]
  }
 ],
 "metadata": {
  "kernelspec": {
   "display_name": "Python 3",
   "language": "python",
   "name": "python3"
  },
  "language_info": {
   "codemirror_mode": {
    "name": "ipython",
    "version": 3
   },
   "file_extension": ".py",
   "mimetype": "text/x-python",
   "name": "python",
   "nbconvert_exporter": "python",
   "pygments_lexer": "ipython3",
   "version": "3.6.4"
  }
 },
 "nbformat": 4,
 "nbformat_minor": 2
}
