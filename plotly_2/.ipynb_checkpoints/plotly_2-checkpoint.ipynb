{
 "cells": [
  {
   "cell_type": "code",
   "execution_count": 1,
   "metadata": {},
   "outputs": [
    {
     "data": {
      "text/html": [
       "<script>requirejs.config({paths: { 'plotly': ['https://cdn.plot.ly/plotly-latest.min']},});if(!window.Plotly) {{require(['plotly'],function(plotly) {window.Plotly=plotly;});}}</script>"
      ],
      "text/vnd.plotly.v1+html": [
       "<script>requirejs.config({paths: { 'plotly': ['https://cdn.plot.ly/plotly-latest.min']},});if(!window.Plotly) {{require(['plotly'],function(plotly) {window.Plotly=plotly;});}}</script>"
      ]
     },
     "metadata": {},
     "output_type": "display_data"
    },
    {
     "data": {
      "text/html": [
       "<div>\n",
       "<style scoped>\n",
       "    .dataframe tbody tr th:only-of-type {\n",
       "        vertical-align: middle;\n",
       "    }\n",
       "\n",
       "    .dataframe tbody tr th {\n",
       "        vertical-align: top;\n",
       "    }\n",
       "\n",
       "    .dataframe thead th {\n",
       "        text-align: right;\n",
       "    }\n",
       "</style>\n",
       "<table border=\"1\" class=\"dataframe\">\n",
       "  <thead>\n",
       "    <tr style=\"text-align: right;\">\n",
       "      <th></th>\n",
       "      <th>0</th>\n",
       "      <th>1</th>\n",
       "    </tr>\n",
       "  </thead>\n",
       "  <tbody>\n",
       "    <tr>\n",
       "      <th>YEAR</th>\n",
       "      <td>2015</td>\n",
       "      <td>2015</td>\n",
       "    </tr>\n",
       "    <tr>\n",
       "      <th>MONTH</th>\n",
       "      <td>1</td>\n",
       "      <td>1</td>\n",
       "    </tr>\n",
       "    <tr>\n",
       "      <th>DAY</th>\n",
       "      <td>1</td>\n",
       "      <td>1</td>\n",
       "    </tr>\n",
       "    <tr>\n",
       "      <th>DAY_OF_WEEK</th>\n",
       "      <td>4</td>\n",
       "      <td>4</td>\n",
       "    </tr>\n",
       "    <tr>\n",
       "      <th>AIRLINE_x</th>\n",
       "      <td>AS</td>\n",
       "      <td>AS</td>\n",
       "    </tr>\n",
       "    <tr>\n",
       "      <th>AIRLINE</th>\n",
       "      <td>Alaska Airlines Inc.</td>\n",
       "      <td>Alaska Airlines Inc.</td>\n",
       "    </tr>\n",
       "    <tr>\n",
       "      <th>FLIGHT_NUMBER</th>\n",
       "      <td>98</td>\n",
       "      <td>108</td>\n",
       "    </tr>\n",
       "    <tr>\n",
       "      <th>TAIL_NUMBER</th>\n",
       "      <td>N407AS</td>\n",
       "      <td>N309AS</td>\n",
       "    </tr>\n",
       "    <tr>\n",
       "      <th>ORIGIN_AIRPORT</th>\n",
       "      <td>ANC</td>\n",
       "      <td>ANC</td>\n",
       "    </tr>\n",
       "    <tr>\n",
       "      <th>DESTINATION_AIRPORT</th>\n",
       "      <td>SEA</td>\n",
       "      <td>SEA</td>\n",
       "    </tr>\n",
       "    <tr>\n",
       "      <th>SCHEDULED_DEPARTURE</th>\n",
       "      <td>5</td>\n",
       "      <td>45</td>\n",
       "    </tr>\n",
       "    <tr>\n",
       "      <th>DEPARTURE_TIME</th>\n",
       "      <td>2354</td>\n",
       "      <td>41</td>\n",
       "    </tr>\n",
       "    <tr>\n",
       "      <th>DEPARTURE_DELAY</th>\n",
       "      <td>-11</td>\n",
       "      <td>-4</td>\n",
       "    </tr>\n",
       "    <tr>\n",
       "      <th>TAXI_OUT</th>\n",
       "      <td>21</td>\n",
       "      <td>17</td>\n",
       "    </tr>\n",
       "    <tr>\n",
       "      <th>WHEELS_OFF</th>\n",
       "      <td>15</td>\n",
       "      <td>58</td>\n",
       "    </tr>\n",
       "    <tr>\n",
       "      <th>SCHEDULED_TIME</th>\n",
       "      <td>205</td>\n",
       "      <td>204</td>\n",
       "    </tr>\n",
       "    <tr>\n",
       "      <th>ELAPSED_TIME</th>\n",
       "      <td>194</td>\n",
       "      <td>194</td>\n",
       "    </tr>\n",
       "    <tr>\n",
       "      <th>AIR_TIME</th>\n",
       "      <td>169</td>\n",
       "      <td>173</td>\n",
       "    </tr>\n",
       "    <tr>\n",
       "      <th>DISTANCE</th>\n",
       "      <td>1448</td>\n",
       "      <td>1448</td>\n",
       "    </tr>\n",
       "    <tr>\n",
       "      <th>WHEELS_ON</th>\n",
       "      <td>404</td>\n",
       "      <td>451</td>\n",
       "    </tr>\n",
       "    <tr>\n",
       "      <th>TAXI_IN</th>\n",
       "      <td>4</td>\n",
       "      <td>4</td>\n",
       "    </tr>\n",
       "    <tr>\n",
       "      <th>SCHEDULED_ARRIVAL</th>\n",
       "      <td>430</td>\n",
       "      <td>509</td>\n",
       "    </tr>\n",
       "    <tr>\n",
       "      <th>ARRIVAL_TIME</th>\n",
       "      <td>408</td>\n",
       "      <td>455</td>\n",
       "    </tr>\n",
       "    <tr>\n",
       "      <th>ARRIVAL_DELAY</th>\n",
       "      <td>-22</td>\n",
       "      <td>-14</td>\n",
       "    </tr>\n",
       "    <tr>\n",
       "      <th>DIVERTED</th>\n",
       "      <td>0</td>\n",
       "      <td>0</td>\n",
       "    </tr>\n",
       "    <tr>\n",
       "      <th>CANCELLED</th>\n",
       "      <td>0</td>\n",
       "      <td>0</td>\n",
       "    </tr>\n",
       "    <tr>\n",
       "      <th>CANCELLATION_REASON</th>\n",
       "      <td>NaN</td>\n",
       "      <td>NaN</td>\n",
       "    </tr>\n",
       "    <tr>\n",
       "      <th>AIR_SYSTEM_DELAY</th>\n",
       "      <td>NaN</td>\n",
       "      <td>NaN</td>\n",
       "    </tr>\n",
       "    <tr>\n",
       "      <th>SECURITY_DELAY</th>\n",
       "      <td>NaN</td>\n",
       "      <td>NaN</td>\n",
       "    </tr>\n",
       "    <tr>\n",
       "      <th>AIRLINE_DELAY</th>\n",
       "      <td>NaN</td>\n",
       "      <td>NaN</td>\n",
       "    </tr>\n",
       "    <tr>\n",
       "      <th>LATE_AIRCRAFT_DELAY</th>\n",
       "      <td>NaN</td>\n",
       "      <td>NaN</td>\n",
       "    </tr>\n",
       "    <tr>\n",
       "      <th>WEATHER_DELAY</th>\n",
       "      <td>NaN</td>\n",
       "      <td>NaN</td>\n",
       "    </tr>\n",
       "    <tr>\n",
       "      <th>AIRPORT_x</th>\n",
       "      <td>Ted Stevens Anchorage International Airport</td>\n",
       "      <td>Ted Stevens Anchorage International Airport</td>\n",
       "    </tr>\n",
       "    <tr>\n",
       "      <th>CITY_x</th>\n",
       "      <td>Anchorage</td>\n",
       "      <td>Anchorage</td>\n",
       "    </tr>\n",
       "    <tr>\n",
       "      <th>AIRPORT_y</th>\n",
       "      <td>Seattle-Tacoma International Airport</td>\n",
       "      <td>Seattle-Tacoma International Airport</td>\n",
       "    </tr>\n",
       "    <tr>\n",
       "      <th>CITY_y</th>\n",
       "      <td>Seattle</td>\n",
       "      <td>Seattle</td>\n",
       "    </tr>\n",
       "  </tbody>\n",
       "</table>\n",
       "</div>"
      ],
      "text/plain": [
       "                                                               0  \\\n",
       "YEAR                                                        2015   \n",
       "MONTH                                                          1   \n",
       "DAY                                                            1   \n",
       "DAY_OF_WEEK                                                    4   \n",
       "AIRLINE_x                                                     AS   \n",
       "AIRLINE                                     Alaska Airlines Inc.   \n",
       "FLIGHT_NUMBER                                                 98   \n",
       "TAIL_NUMBER                                               N407AS   \n",
       "ORIGIN_AIRPORT                                               ANC   \n",
       "DESTINATION_AIRPORT                                          SEA   \n",
       "SCHEDULED_DEPARTURE                                            5   \n",
       "DEPARTURE_TIME                                              2354   \n",
       "DEPARTURE_DELAY                                              -11   \n",
       "TAXI_OUT                                                      21   \n",
       "WHEELS_OFF                                                    15   \n",
       "SCHEDULED_TIME                                               205   \n",
       "ELAPSED_TIME                                                 194   \n",
       "AIR_TIME                                                     169   \n",
       "DISTANCE                                                    1448   \n",
       "WHEELS_ON                                                    404   \n",
       "TAXI_IN                                                        4   \n",
       "SCHEDULED_ARRIVAL                                            430   \n",
       "ARRIVAL_TIME                                                 408   \n",
       "ARRIVAL_DELAY                                                -22   \n",
       "DIVERTED                                                       0   \n",
       "CANCELLED                                                      0   \n",
       "CANCELLATION_REASON                                          NaN   \n",
       "AIR_SYSTEM_DELAY                                             NaN   \n",
       "SECURITY_DELAY                                               NaN   \n",
       "AIRLINE_DELAY                                                NaN   \n",
       "LATE_AIRCRAFT_DELAY                                          NaN   \n",
       "WEATHER_DELAY                                                NaN   \n",
       "AIRPORT_x            Ted Stevens Anchorage International Airport   \n",
       "CITY_x                                                 Anchorage   \n",
       "AIRPORT_y                   Seattle-Tacoma International Airport   \n",
       "CITY_y                                                   Seattle   \n",
       "\n",
       "                                                               1  \n",
       "YEAR                                                        2015  \n",
       "MONTH                                                          1  \n",
       "DAY                                                            1  \n",
       "DAY_OF_WEEK                                                    4  \n",
       "AIRLINE_x                                                     AS  \n",
       "AIRLINE                                     Alaska Airlines Inc.  \n",
       "FLIGHT_NUMBER                                                108  \n",
       "TAIL_NUMBER                                               N309AS  \n",
       "ORIGIN_AIRPORT                                               ANC  \n",
       "DESTINATION_AIRPORT                                          SEA  \n",
       "SCHEDULED_DEPARTURE                                           45  \n",
       "DEPARTURE_TIME                                                41  \n",
       "DEPARTURE_DELAY                                               -4  \n",
       "TAXI_OUT                                                      17  \n",
       "WHEELS_OFF                                                    58  \n",
       "SCHEDULED_TIME                                               204  \n",
       "ELAPSED_TIME                                                 194  \n",
       "AIR_TIME                                                     173  \n",
       "DISTANCE                                                    1448  \n",
       "WHEELS_ON                                                    451  \n",
       "TAXI_IN                                                        4  \n",
       "SCHEDULED_ARRIVAL                                            509  \n",
       "ARRIVAL_TIME                                                 455  \n",
       "ARRIVAL_DELAY                                                -14  \n",
       "DIVERTED                                                       0  \n",
       "CANCELLED                                                      0  \n",
       "CANCELLATION_REASON                                          NaN  \n",
       "AIR_SYSTEM_DELAY                                             NaN  \n",
       "SECURITY_DELAY                                               NaN  \n",
       "AIRLINE_DELAY                                                NaN  \n",
       "LATE_AIRCRAFT_DELAY                                          NaN  \n",
       "WEATHER_DELAY                                                NaN  \n",
       "AIRPORT_x            Ted Stevens Anchorage International Airport  \n",
       "CITY_x                                                 Anchorage  \n",
       "AIRPORT_y                   Seattle-Tacoma International Airport  \n",
       "CITY_y                                                   Seattle  "
      ]
     },
     "execution_count": 1,
     "metadata": {},
     "output_type": "execute_result"
    }
   ],
   "source": [
    "import pandas as pd\n",
    "import numpy as np\n",
    "import warnings\n",
    "warnings.filterwarnings('ignore')\n",
    "\n",
    "import plotly.offline as py\n",
    "import plotly.graph_objs as go\n",
    "py.init_notebook_mode(connected=True)\n",
    "from plotly import tools\n",
    "import plotly.figure_factory as ff\n",
    "\n",
    "df = pd.read_csv('data/flights.csv', low_memory=False)\n",
    "airlines = pd.read_csv('data/airlines.csv')\n",
    "df = pd.merge(df,airlines, left_on='AIRLINE', right_on = 'IATA_CODE')\n",
    "df.insert(loc=5, column='AIRLINE', value=df.AIRLINE_y)\n",
    "df = df.drop(['AIRLINE_y','IATA_CODE'], axis=1)\n",
    "\n",
    "airport = pd.read_csv('data/airports.csv')\n",
    "df = pd.merge(df,airport[['IATA_CODE','AIRPORT','CITY']], left_on='ORIGIN_AIRPORT', right_on = 'IATA_CODE')\n",
    "df = df.drop(['IATA_CODE'], axis=1)\n",
    "df = pd.merge(df,airport[['IATA_CODE','AIRPORT','CITY']], left_on='DESTINATION_AIRPORT', right_on = 'IATA_CODE')\n",
    "df = df.drop(['IATA_CODE'], axis=1)\n",
    "df.head(2).T"
   ]
  },
  {
   "cell_type": "code",
   "execution_count": 2,
   "metadata": {},
   "outputs": [
    {
     "data": {
      "application/vnd.plotly.v1+json": {
       "data": [
        {
         "labels": [
          "Hartsfield-Jackson Atlanta International Airport",
          "Chicago O'Hare International Airport",
          "Dallas/Fort Worth International Airport",
          "Denver International Airport",
          "Los Angeles International Airport",
          "San Francisco International Airport",
          "Phoenix Sky Harbor International Airport",
          "George Bush Intercontinental Airport",
          "McCarran International Airport",
          "Minneapolis-Saint Paul International Airport"
         ],
         "type": "pie",
         "uid": "a8cc4ebc-bf2b-11e8-b527-43b87aab943e",
         "values": [
          346836,
          285884,
          239551,
          196055,
          194673,
          148008,
          146815,
          146622,
          133181,
          112117
         ]
        }
       ],
       "layout": {}
      },
      "text/html": [
       "<div id=\"eec7a4eb-1307-4c8c-b925-2e401c90e57d\" style=\"height: 525px; width: 100%;\" class=\"plotly-graph-div\"></div><script type=\"text/javascript\">require([\"plotly\"], function(Plotly) { window.PLOTLYENV=window.PLOTLYENV || {};window.PLOTLYENV.BASE_URL=\"https://plot.ly\";Plotly.newPlot(\"eec7a4eb-1307-4c8c-b925-2e401c90e57d\", [{\"labels\": [\"Hartsfield-Jackson Atlanta International Airport\", \"Chicago O'Hare International Airport\", \"Dallas/Fort Worth International Airport\", \"Denver International Airport\", \"Los Angeles International Airport\", \"San Francisco International Airport\", \"Phoenix Sky Harbor International Airport\", \"George Bush Intercontinental Airport\", \"McCarran International Airport\", \"Minneapolis-Saint Paul International Airport\"], \"values\": [346836.0, 285884.0, 239551.0, 196055.0, 194673.0, 148008.0, 146815.0, 146622.0, 133181.0, 112117.0], \"type\": \"pie\", \"uid\": \"a8e4e09e-bf2b-11e8-b527-43b87aab943e\"}], {}, {\"showLink\": true, \"linkText\": \"Export to plot.ly\"})});</script>"
      ],
      "text/vnd.plotly.v1+html": [
       "<div id=\"eec7a4eb-1307-4c8c-b925-2e401c90e57d\" style=\"height: 525px; width: 100%;\" class=\"plotly-graph-div\"></div><script type=\"text/javascript\">require([\"plotly\"], function(Plotly) { window.PLOTLYENV=window.PLOTLYENV || {};window.PLOTLYENV.BASE_URL=\"https://plot.ly\";Plotly.newPlot(\"eec7a4eb-1307-4c8c-b925-2e401c90e57d\", [{\"labels\": [\"Hartsfield-Jackson Atlanta International Airport\", \"Chicago O'Hare International Airport\", \"Dallas/Fort Worth International Airport\", \"Denver International Airport\", \"Los Angeles International Airport\", \"San Francisco International Airport\", \"Phoenix Sky Harbor International Airport\", \"George Bush Intercontinental Airport\", \"McCarran International Airport\", \"Minneapolis-Saint Paul International Airport\"], \"values\": [346836.0, 285884.0, 239551.0, 196055.0, 194673.0, 148008.0, 146815.0, 146622.0, 133181.0, 112117.0], \"type\": \"pie\", \"uid\": \"a8e4e09e-bf2b-11e8-b527-43b87aab943e\"}], {}, {\"showLink\": true, \"linkText\": \"Export to plot.ly\"})});</script>"
      ]
     },
     "metadata": {},
     "output_type": "display_data"
    }
   ],
   "source": [
    "data = df['AIRPORT_x'].value_counts()[:10]\n",
    "label = data.index\n",
    "size = data.values\n",
    "\n",
    "trace = go.Pie(labels=label, values=size)\n",
    "data = [trace]\n",
    "py.iplot(data)"
   ]
  },
  {
   "cell_type": "code",
   "execution_count": 3,
   "metadata": {},
   "outputs": [
    {
     "data": {
      "application/vnd.plotly.v1+json": {
       "data": [
        {
         "hole": 0.2,
         "labels": [
          "Hartsfield-Jackson Atlanta International Airport",
          "Chicago O'Hare International Airport",
          "Dallas/Fort Worth International Airport",
          "Denver International Airport",
          "Los Angeles International Airport",
          "San Francisco International Airport",
          "Phoenix Sky Harbor International Airport",
          "George Bush Intercontinental Airport",
          "McCarran International Airport",
          "Minneapolis-Saint Paul International Airport"
         ],
         "marker": {
          "colors": [
           "skyblue",
           "#FEBFB3",
           "#96D38C",
           "#D0F9B1",
           "gold",
           "orange",
           "lightgrey",
           "lightblue",
           "lightgreen",
           "aqua"
          ]
         },
         "type": "pie",
         "uid": "a8ec697c-bf2b-11e8-b527-43b87aab943e",
         "values": [
          346836,
          285884,
          239551,
          196055,
          194673,
          148008,
          146815,
          146622,
          133181,
          112117
         ]
        }
       ],
       "layout": {}
      },
      "text/html": [
       "<div id=\"59d12bf4-51c0-4c4b-8080-a51abd420544\" style=\"height: 525px; width: 100%;\" class=\"plotly-graph-div\"></div><script type=\"text/javascript\">require([\"plotly\"], function(Plotly) { window.PLOTLYENV=window.PLOTLYENV || {};window.PLOTLYENV.BASE_URL=\"https://plot.ly\";Plotly.newPlot(\"59d12bf4-51c0-4c4b-8080-a51abd420544\", [{\"hole\": 0.2, \"labels\": [\"Hartsfield-Jackson Atlanta International Airport\", \"Chicago O'Hare International Airport\", \"Dallas/Fort Worth International Airport\", \"Denver International Airport\", \"Los Angeles International Airport\", \"San Francisco International Airport\", \"Phoenix Sky Harbor International Airport\", \"George Bush Intercontinental Airport\", \"McCarran International Airport\", \"Minneapolis-Saint Paul International Airport\"], \"marker\": {\"colors\": [\"skyblue\", \"#FEBFB3\", \"#96D38C\", \"#D0F9B1\", \"gold\", \"orange\", \"lightgrey\", \"lightblue\", \"lightgreen\", \"aqua\"]}, \"values\": [346836.0, 285884.0, 239551.0, 196055.0, 194673.0, 148008.0, 146815.0, 146622.0, 133181.0, 112117.0], \"type\": \"pie\", \"uid\": \"a8f29996-bf2b-11e8-b527-43b87aab943e\"}], {}, {\"showLink\": true, \"linkText\": \"Export to plot.ly\"})});</script>"
      ],
      "text/vnd.plotly.v1+html": [
       "<div id=\"59d12bf4-51c0-4c4b-8080-a51abd420544\" style=\"height: 525px; width: 100%;\" class=\"plotly-graph-div\"></div><script type=\"text/javascript\">require([\"plotly\"], function(Plotly) { window.PLOTLYENV=window.PLOTLYENV || {};window.PLOTLYENV.BASE_URL=\"https://plot.ly\";Plotly.newPlot(\"59d12bf4-51c0-4c4b-8080-a51abd420544\", [{\"hole\": 0.2, \"labels\": [\"Hartsfield-Jackson Atlanta International Airport\", \"Chicago O'Hare International Airport\", \"Dallas/Fort Worth International Airport\", \"Denver International Airport\", \"Los Angeles International Airport\", \"San Francisco International Airport\", \"Phoenix Sky Harbor International Airport\", \"George Bush Intercontinental Airport\", \"McCarran International Airport\", \"Minneapolis-Saint Paul International Airport\"], \"marker\": {\"colors\": [\"skyblue\", \"#FEBFB3\", \"#96D38C\", \"#D0F9B1\", \"gold\", \"orange\", \"lightgrey\", \"lightblue\", \"lightgreen\", \"aqua\"]}, \"values\": [346836.0, 285884.0, 239551.0, 196055.0, 194673.0, 148008.0, 146815.0, 146622.0, 133181.0, 112117.0], \"type\": \"pie\", \"uid\": \"a8f29996-bf2b-11e8-b527-43b87aab943e\"}], {}, {\"showLink\": true, \"linkText\": \"Export to plot.ly\"})});</script>"
      ]
     },
     "metadata": {},
     "output_type": "display_data"
    }
   ],
   "source": [
    "colors = ['skyblue', '#FEBFB3', '#96D38C', '#D0F9B1', 'gold', 'orange', 'lightgrey', 'lightblue','lightgreen','aqua']\n",
    "trace = go.Pie(labels=label, values=size, marker=dict(colors=colors), hole = .2)\n",
    "data = [trace]\n",
    "py.iplot(data)"
   ]
  },
  {
   "cell_type": "code",
   "execution_count": 4,
   "metadata": {},
   "outputs": [
    {
     "data": {
      "application/vnd.plotly.v1+json": {
       "data": [
        {
         "hole": 0.2,
         "labels": [
          "Hartsfield-Jackson Atlanta International Airport",
          "Chicago O'Hare International Airport",
          "Dallas/Fort Worth International Airport",
          "Denver International Airport",
          "Los Angeles International Airport",
          "San Francisco International Airport",
          "Phoenix Sky Harbor International Airport",
          "George Bush Intercontinental Airport",
          "McCarran International Airport",
          "Minneapolis-Saint Paul International Airport"
         ],
         "marker": {
          "colors": [
           "skyblue",
           "#FEBFB3",
           "#96D38C",
           "#D0F9B1",
           "gold",
           "orange",
           "lightgrey",
           "lightblue",
           "lightgreen",
           "aqua"
          ]
         },
         "type": "pie",
         "uid": "a909ba36-bf2b-11e8-b527-43b87aab943e",
         "values": [
          346836,
          285884,
          239551,
          196055,
          194673,
          148008,
          146815,
          146622,
          133181,
          112117
         ]
        }
       ],
       "layout": {
        "title": "Havaalanı Dağılımı"
       }
      },
      "text/html": [
       "<div id=\"f4780561-497c-4a5e-9d6e-1d0f5dc5facf\" style=\"height: 525px; width: 100%;\" class=\"plotly-graph-div\"></div><script type=\"text/javascript\">require([\"plotly\"], function(Plotly) { window.PLOTLYENV=window.PLOTLYENV || {};window.PLOTLYENV.BASE_URL=\"https://plot.ly\";\n",
       "        Plotly.plot(\n",
       "            'f4780561-497c-4a5e-9d6e-1d0f5dc5facf',\n",
       "            [{\"hole\": 0.2, \"labels\": [\"Hartsfield-Jackson Atlanta International Airport\", \"Chicago O'Hare International Airport\", \"Dallas/Fort Worth International Airport\", \"Denver International Airport\", \"Los Angeles International Airport\", \"San Francisco International Airport\", \"Phoenix Sky Harbor International Airport\", \"George Bush Intercontinental Airport\", \"McCarran International Airport\", \"Minneapolis-Saint Paul International Airport\"], \"marker\": {\"colors\": [\"skyblue\", \"#FEBFB3\", \"#96D38C\", \"#D0F9B1\", \"gold\", \"orange\", \"lightgrey\", \"lightblue\", \"lightgreen\", \"aqua\"]}, \"values\": [346836.0, 285884.0, 239551.0, 196055.0, 194673.0, 148008.0, 146815.0, 146622.0, 133181.0, 112117.0], \"type\": \"pie\", \"uid\": \"a909ba36-bf2b-11e8-b527-43b87aab943e\"}],\n",
       "            {\"title\": \"Havaalan\\u0131 Da\\u011f\\u0131l\\u0131m\\u0131\"},\n",
       "            {\"showLink\": true, \"linkText\": \"Export to plot.ly\"}\n",
       "        ).then(function () {return Plotly.addFrames('f4780561-497c-4a5e-9d6e-1d0f5dc5facf',{});}).then(function(){Plotly.animate('f4780561-497c-4a5e-9d6e-1d0f5dc5facf');})\n",
       "        });</script>"
      ],
      "text/vnd.plotly.v1+html": [
       "<div id=\"f4780561-497c-4a5e-9d6e-1d0f5dc5facf\" style=\"height: 525px; width: 100%;\" class=\"plotly-graph-div\"></div><script type=\"text/javascript\">require([\"plotly\"], function(Plotly) { window.PLOTLYENV=window.PLOTLYENV || {};window.PLOTLYENV.BASE_URL=\"https://plot.ly\";\n",
       "        Plotly.plot(\n",
       "            'f4780561-497c-4a5e-9d6e-1d0f5dc5facf',\n",
       "            [{\"hole\": 0.2, \"labels\": [\"Hartsfield-Jackson Atlanta International Airport\", \"Chicago O'Hare International Airport\", \"Dallas/Fort Worth International Airport\", \"Denver International Airport\", \"Los Angeles International Airport\", \"San Francisco International Airport\", \"Phoenix Sky Harbor International Airport\", \"George Bush Intercontinental Airport\", \"McCarran International Airport\", \"Minneapolis-Saint Paul International Airport\"], \"marker\": {\"colors\": [\"skyblue\", \"#FEBFB3\", \"#96D38C\", \"#D0F9B1\", \"gold\", \"orange\", \"lightgrey\", \"lightblue\", \"lightgreen\", \"aqua\"]}, \"values\": [346836.0, 285884.0, 239551.0, 196055.0, 194673.0, 148008.0, 146815.0, 146622.0, 133181.0, 112117.0], \"type\": \"pie\", \"uid\": \"a909ba36-bf2b-11e8-b527-43b87aab943e\"}],\n",
       "            {\"title\": \"Havaalan\\u0131 Da\\u011f\\u0131l\\u0131m\\u0131\"},\n",
       "            {\"showLink\": true, \"linkText\": \"Export to plot.ly\"}\n",
       "        ).then(function () {return Plotly.addFrames('f4780561-497c-4a5e-9d6e-1d0f5dc5facf',{});}).then(function(){Plotly.animate('f4780561-497c-4a5e-9d6e-1d0f5dc5facf');})\n",
       "        });</script>"
      ]
     },
     "metadata": {},
     "output_type": "display_data"
    }
   ],
   "source": [
    "trace = go.Pie(labels=label, values=size, marker=dict(colors=colors), hole = .2)\n",
    "layout = go.Layout(\n",
    "    title='Havaalanı Dağılımı'\n",
    ")\n",
    "data = [trace]\n",
    "fig = go.Figure(data=data, layout=layout)\n",
    "py.iplot(fig)"
   ]
  },
  {
   "cell_type": "code",
   "execution_count": 5,
   "metadata": {},
   "outputs": [
    {
     "data": {
      "application/vnd.plotly.v1+json": {
       "data": [
        {
         "hole": 0.2,
         "labels": [
          "Hartsfield-Jackson Atlanta International Airport",
          "Chicago O'Hare International Airport",
          "Dallas/Fort Worth International Airport",
          "Denver International Airport",
          "Los Angeles International Airport",
          "San Francisco International Airport",
          "Phoenix Sky Harbor International Airport",
          "George Bush Intercontinental Airport",
          "McCarran International Airport",
          "Minneapolis-Saint Paul International Airport"
         ],
         "marker": {
          "colors": [
           "skyblue",
           "#FEBFB3",
           "#96D38C",
           "#D0F9B1",
           "gold",
           "orange",
           "lightgrey",
           "lightblue",
           "lightgreen",
           "aqua"
          ]
         },
         "textposition": "outside",
         "type": "pie",
         "uid": "a91eb0f8-bf2b-11e8-b527-43b87aab943e",
         "values": [
          346836,
          285884,
          239551,
          196055,
          194673,
          148008,
          146815,
          146622,
          133181,
          112117
         ]
        }
       ],
       "layout": {
        "legend": {
         "orientation": "h"
        },
        "title": "Havaalanı Dağılımı"
       }
      },
      "text/html": [
       "<div id=\"8b88a61c-a912-455c-8f6f-97ee134ac238\" style=\"height: 525px; width: 100%;\" class=\"plotly-graph-div\"></div><script type=\"text/javascript\">require([\"plotly\"], function(Plotly) { window.PLOTLYENV=window.PLOTLYENV || {};window.PLOTLYENV.BASE_URL=\"https://plot.ly\";\n",
       "        Plotly.plot(\n",
       "            '8b88a61c-a912-455c-8f6f-97ee134ac238',\n",
       "            [{\"hole\": 0.2, \"labels\": [\"Hartsfield-Jackson Atlanta International Airport\", \"Chicago O'Hare International Airport\", \"Dallas/Fort Worth International Airport\", \"Denver International Airport\", \"Los Angeles International Airport\", \"San Francisco International Airport\", \"Phoenix Sky Harbor International Airport\", \"George Bush Intercontinental Airport\", \"McCarran International Airport\", \"Minneapolis-Saint Paul International Airport\"], \"marker\": {\"colors\": [\"skyblue\", \"#FEBFB3\", \"#96D38C\", \"#D0F9B1\", \"gold\", \"orange\", \"lightgrey\", \"lightblue\", \"lightgreen\", \"aqua\"]}, \"textposition\": \"outside\", \"values\": [346836.0, 285884.0, 239551.0, 196055.0, 194673.0, 148008.0, 146815.0, 146622.0, 133181.0, 112117.0], \"type\": \"pie\", \"uid\": \"a91eb0f8-bf2b-11e8-b527-43b87aab943e\"}],\n",
       "            {\"legend\": {\"orientation\": \"h\"}, \"title\": \"Havaalan\\u0131 Da\\u011f\\u0131l\\u0131m\\u0131\"},\n",
       "            {\"showLink\": true, \"linkText\": \"Export to plot.ly\"}\n",
       "        ).then(function () {return Plotly.addFrames('8b88a61c-a912-455c-8f6f-97ee134ac238',{});}).then(function(){Plotly.animate('8b88a61c-a912-455c-8f6f-97ee134ac238');})\n",
       "        });</script>"
      ],
      "text/vnd.plotly.v1+html": [
       "<div id=\"8b88a61c-a912-455c-8f6f-97ee134ac238\" style=\"height: 525px; width: 100%;\" class=\"plotly-graph-div\"></div><script type=\"text/javascript\">require([\"plotly\"], function(Plotly) { window.PLOTLYENV=window.PLOTLYENV || {};window.PLOTLYENV.BASE_URL=\"https://plot.ly\";\n",
       "        Plotly.plot(\n",
       "            '8b88a61c-a912-455c-8f6f-97ee134ac238',\n",
       "            [{\"hole\": 0.2, \"labels\": [\"Hartsfield-Jackson Atlanta International Airport\", \"Chicago O'Hare International Airport\", \"Dallas/Fort Worth International Airport\", \"Denver International Airport\", \"Los Angeles International Airport\", \"San Francisco International Airport\", \"Phoenix Sky Harbor International Airport\", \"George Bush Intercontinental Airport\", \"McCarran International Airport\", \"Minneapolis-Saint Paul International Airport\"], \"marker\": {\"colors\": [\"skyblue\", \"#FEBFB3\", \"#96D38C\", \"#D0F9B1\", \"gold\", \"orange\", \"lightgrey\", \"lightblue\", \"lightgreen\", \"aqua\"]}, \"textposition\": \"outside\", \"values\": [346836.0, 285884.0, 239551.0, 196055.0, 194673.0, 148008.0, 146815.0, 146622.0, 133181.0, 112117.0], \"type\": \"pie\", \"uid\": \"a91eb0f8-bf2b-11e8-b527-43b87aab943e\"}],\n",
       "            {\"legend\": {\"orientation\": \"h\"}, \"title\": \"Havaalan\\u0131 Da\\u011f\\u0131l\\u0131m\\u0131\"},\n",
       "            {\"showLink\": true, \"linkText\": \"Export to plot.ly\"}\n",
       "        ).then(function () {return Plotly.addFrames('8b88a61c-a912-455c-8f6f-97ee134ac238',{});}).then(function(){Plotly.animate('8b88a61c-a912-455c-8f6f-97ee134ac238');})\n",
       "        });</script>"
      ]
     },
     "metadata": {},
     "output_type": "display_data"
    }
   ],
   "source": [
    "trace = go.Pie(labels=label, values=size, marker=dict(colors=colors), hole = .2,textposition = \"outside\")\n",
    "layout = go.Layout(\n",
    "    title='Havaalanı Dağılımı',legend=dict(orientation=\"h\")\n",
    ")\n",
    "data = [trace]\n",
    "fig = go.Figure(data=data, layout=layout)\n",
    "py.iplot(fig)"
   ]
  },
  {
   "cell_type": "code",
   "execution_count": 6,
   "metadata": {},
   "outputs": [],
   "source": [
    "df1 = df.MONTH.value_counts().to_frame().reset_index().sort_values(by='index')\n",
    "df1.columns = ['month', 'flight_num']\n",
    "month = {1: 'Jan', 2: 'Feb', 3: 'Mar', 4: 'Apr', 5: 'May',\n",
    "            6: 'Jun', 7: 'Jul', 8: 'Aug', 9: 'Sep', 10: 'Oct', 11: 'Nov', 12: 'Dec'}\n",
    "df1.month = df1.month.map(month)"
   ]
  },
  {
   "cell_type": "code",
   "execution_count": 7,
   "metadata": {},
   "outputs": [
    {
     "data": {
      "application/vnd.plotly.v1+json": {
       "data": [
        {
         "type": "bar",
         "uid": "a94d5fde-bf2b-11e8-b527-43b87aab943e",
         "x": [
          "Jan",
          "Feb",
          "Mar",
          "Apr",
          "May",
          "Jun",
          "Jul",
          "Aug",
          "Sep",
          "Nov",
          "Dec"
         ],
         "y": [
          469968,
          429191,
          504312,
          485151,
          496993,
          503897,
          520718,
          510536,
          464946,
          467972,
          479230
         ]
        }
       ],
       "layout": {}
      },
      "text/html": [
       "<div id=\"311bc159-a79c-46e9-a121-ce655b087221\" style=\"height: 525px; width: 100%;\" class=\"plotly-graph-div\"></div><script type=\"text/javascript\">require([\"plotly\"], function(Plotly) { window.PLOTLYENV=window.PLOTLYENV || {};window.PLOTLYENV.BASE_URL=\"https://plot.ly\";Plotly.newPlot(\"311bc159-a79c-46e9-a121-ce655b087221\", [{\"x\": [\"Jan\", \"Feb\", \"Mar\", \"Apr\", \"May\", \"Jun\", \"Jul\", \"Aug\", \"Sep\", \"Nov\", \"Dec\"], \"y\": [469968.0, 429191.0, 504312.0, 485151.0, 496993.0, 503897.0, 520718.0, 510536.0, 464946.0, 467972.0, 479230.0], \"type\": \"bar\", \"uid\": \"a9558312-bf2b-11e8-b527-43b87aab943e\"}], {}, {\"showLink\": true, \"linkText\": \"Export to plot.ly\"})});</script>"
      ],
      "text/vnd.plotly.v1+html": [
       "<div id=\"311bc159-a79c-46e9-a121-ce655b087221\" style=\"height: 525px; width: 100%;\" class=\"plotly-graph-div\"></div><script type=\"text/javascript\">require([\"plotly\"], function(Plotly) { window.PLOTLYENV=window.PLOTLYENV || {};window.PLOTLYENV.BASE_URL=\"https://plot.ly\";Plotly.newPlot(\"311bc159-a79c-46e9-a121-ce655b087221\", [{\"x\": [\"Jan\", \"Feb\", \"Mar\", \"Apr\", \"May\", \"Jun\", \"Jul\", \"Aug\", \"Sep\", \"Nov\", \"Dec\"], \"y\": [469968.0, 429191.0, 504312.0, 485151.0, 496993.0, 503897.0, 520718.0, 510536.0, 464946.0, 467972.0, 479230.0], \"type\": \"bar\", \"uid\": \"a9558312-bf2b-11e8-b527-43b87aab943e\"}], {}, {\"showLink\": true, \"linkText\": \"Export to plot.ly\"})});</script>"
      ]
     },
     "metadata": {},
     "output_type": "display_data"
    }
   ],
   "source": [
    "trace = go.Bar(\n",
    "    x=df1.month,\n",
    "    y=df1.flight_num, \n",
    ")\n",
    "data = [trace]\n",
    "py.iplot(data)"
   ]
  },
  {
   "cell_type": "code",
   "execution_count": 8,
   "metadata": {},
   "outputs": [
    {
     "data": {
      "application/vnd.plotly.v1+json": {
       "data": [
        {
         "marker": {
          "color": [
           469968,
           429191,
           504312,
           485151,
           496993,
           503897,
           520718,
           510536,
           464946,
           467972,
           479230
          ],
          "colorscale": "Jet",
          "showscale": true
         },
         "type": "bar",
         "uid": "a95ee6f0-bf2b-11e8-b527-43b87aab943e",
         "x": [
          "Jan",
          "Feb",
          "Mar",
          "Apr",
          "May",
          "Jun",
          "Jul",
          "Aug",
          "Sep",
          "Nov",
          "Dec"
         ],
         "y": [
          469968,
          429191,
          504312,
          485151,
          496993,
          503897,
          520718,
          510536,
          464946,
          467972,
          479230
         ]
        }
       ],
       "layout": {}
      },
      "text/html": [
       "<div id=\"55198d4b-67f9-44ce-89f9-040118ec0124\" style=\"height: 525px; width: 100%;\" class=\"plotly-graph-div\"></div><script type=\"text/javascript\">require([\"plotly\"], function(Plotly) { window.PLOTLYENV=window.PLOTLYENV || {};window.PLOTLYENV.BASE_URL=\"https://plot.ly\";Plotly.newPlot(\"55198d4b-67f9-44ce-89f9-040118ec0124\", [{\"marker\": {\"color\": [469968.0, 429191.0, 504312.0, 485151.0, 496993.0, 503897.0, 520718.0, 510536.0, 464946.0, 467972.0, 479230.0], \"colorscale\": \"Jet\", \"showscale\": true}, \"x\": [\"Jan\", \"Feb\", \"Mar\", \"Apr\", \"May\", \"Jun\", \"Jul\", \"Aug\", \"Sep\", \"Nov\", \"Dec\"], \"y\": [469968.0, 429191.0, 504312.0, 485151.0, 496993.0, 503897.0, 520718.0, 510536.0, 464946.0, 467972.0, 479230.0], \"type\": \"bar\", \"uid\": \"a965f8fa-bf2b-11e8-b527-43b87aab943e\"}], {}, {\"showLink\": true, \"linkText\": \"Export to plot.ly\"})});</script>"
      ],
      "text/vnd.plotly.v1+html": [
       "<div id=\"55198d4b-67f9-44ce-89f9-040118ec0124\" style=\"height: 525px; width: 100%;\" class=\"plotly-graph-div\"></div><script type=\"text/javascript\">require([\"plotly\"], function(Plotly) { window.PLOTLYENV=window.PLOTLYENV || {};window.PLOTLYENV.BASE_URL=\"https://plot.ly\";Plotly.newPlot(\"55198d4b-67f9-44ce-89f9-040118ec0124\", [{\"marker\": {\"color\": [469968.0, 429191.0, 504312.0, 485151.0, 496993.0, 503897.0, 520718.0, 510536.0, 464946.0, 467972.0, 479230.0], \"colorscale\": \"Jet\", \"showscale\": true}, \"x\": [\"Jan\", \"Feb\", \"Mar\", \"Apr\", \"May\", \"Jun\", \"Jul\", \"Aug\", \"Sep\", \"Nov\", \"Dec\"], \"y\": [469968.0, 429191.0, 504312.0, 485151.0, 496993.0, 503897.0, 520718.0, 510536.0, 464946.0, 467972.0, 479230.0], \"type\": \"bar\", \"uid\": \"a965f8fa-bf2b-11e8-b527-43b87aab943e\"}], {}, {\"showLink\": true, \"linkText\": \"Export to plot.ly\"})});</script>"
      ]
     },
     "metadata": {},
     "output_type": "display_data"
    }
   ],
   "source": [
    "trace = go.Bar(\n",
    "    x=df1.month,\n",
    "    y=df1.flight_num,  marker=dict(\n",
    "        colorscale='Jet',\n",
    "        showscale=True,\n",
    "        color = df1.flight_num\n",
    "\n",
    "    )\n",
    ")\n",
    "data = [trace]\n",
    "py.iplot(data)"
   ]
  },
  {
   "cell_type": "code",
   "execution_count": 9,
   "metadata": {},
   "outputs": [
    {
     "data": {
      "application/vnd.plotly.v1+json": {
       "data": [
        {
         "marker": {
          "color": [
           469968,
           429191,
           504312,
           485151,
           496993,
           503897,
           520718,
           510536,
           464946,
           467972,
           479230
          ],
          "colorscale": "Jet",
          "showscale": true
         },
         "type": "bar",
         "uid": "a97ac1cc-bf2b-11e8-b527-43b87aab943e",
         "x": [
          "Jan",
          "Feb",
          "Mar",
          "Apr",
          "May",
          "Jun",
          "Jul",
          "Aug",
          "Sep",
          "Nov",
          "Dec"
         ],
         "y": [
          469968,
          429191,
          504312,
          485151,
          496993,
          503897,
          520718,
          510536,
          464946,
          467972,
          479230
         ]
        }
       ],
       "layout": {
        "title": "Aylara Göre İptal Edilen Uçuşlar",
        "yaxis": {
         "title": "Uçuş Sayısı"
        }
       }
      },
      "text/html": [
       "<div id=\"4d6e40e2-6c3b-45e7-bd92-e5fb0efa4f56\" style=\"height: 525px; width: 100%;\" class=\"plotly-graph-div\"></div><script type=\"text/javascript\">require([\"plotly\"], function(Plotly) { window.PLOTLYENV=window.PLOTLYENV || {};window.PLOTLYENV.BASE_URL=\"https://plot.ly\";\n",
       "        Plotly.plot(\n",
       "            '4d6e40e2-6c3b-45e7-bd92-e5fb0efa4f56',\n",
       "            [{\"marker\": {\"color\": [469968.0, 429191.0, 504312.0, 485151.0, 496993.0, 503897.0, 520718.0, 510536.0, 464946.0, 467972.0, 479230.0], \"colorscale\": \"Jet\", \"showscale\": true}, \"x\": [\"Jan\", \"Feb\", \"Mar\", \"Apr\", \"May\", \"Jun\", \"Jul\", \"Aug\", \"Sep\", \"Nov\", \"Dec\"], \"y\": [469968.0, 429191.0, 504312.0, 485151.0, 496993.0, 503897.0, 520718.0, 510536.0, 464946.0, 467972.0, 479230.0], \"type\": \"bar\", \"uid\": \"a97ac1cc-bf2b-11e8-b527-43b87aab943e\"}],\n",
       "            {\"title\": \"Aylara G\\u00f6re \\u0130ptal Edilen U\\u00e7u\\u015flar\", \"yaxis\": {\"title\": \"U\\u00e7u\\u015f Say\\u0131s\\u0131\"}},\n",
       "            {\"showLink\": true, \"linkText\": \"Export to plot.ly\"}\n",
       "        ).then(function () {return Plotly.addFrames('4d6e40e2-6c3b-45e7-bd92-e5fb0efa4f56',{});}).then(function(){Plotly.animate('4d6e40e2-6c3b-45e7-bd92-e5fb0efa4f56');})\n",
       "        });</script>"
      ],
      "text/vnd.plotly.v1+html": [
       "<div id=\"4d6e40e2-6c3b-45e7-bd92-e5fb0efa4f56\" style=\"height: 525px; width: 100%;\" class=\"plotly-graph-div\"></div><script type=\"text/javascript\">require([\"plotly\"], function(Plotly) { window.PLOTLYENV=window.PLOTLYENV || {};window.PLOTLYENV.BASE_URL=\"https://plot.ly\";\n",
       "        Plotly.plot(\n",
       "            '4d6e40e2-6c3b-45e7-bd92-e5fb0efa4f56',\n",
       "            [{\"marker\": {\"color\": [469968.0, 429191.0, 504312.0, 485151.0, 496993.0, 503897.0, 520718.0, 510536.0, 464946.0, 467972.0, 479230.0], \"colorscale\": \"Jet\", \"showscale\": true}, \"x\": [\"Jan\", \"Feb\", \"Mar\", \"Apr\", \"May\", \"Jun\", \"Jul\", \"Aug\", \"Sep\", \"Nov\", \"Dec\"], \"y\": [469968.0, 429191.0, 504312.0, 485151.0, 496993.0, 503897.0, 520718.0, 510536.0, 464946.0, 467972.0, 479230.0], \"type\": \"bar\", \"uid\": \"a97ac1cc-bf2b-11e8-b527-43b87aab943e\"}],\n",
       "            {\"title\": \"Aylara G\\u00f6re \\u0130ptal Edilen U\\u00e7u\\u015flar\", \"yaxis\": {\"title\": \"U\\u00e7u\\u015f Say\\u0131s\\u0131\"}},\n",
       "            {\"showLink\": true, \"linkText\": \"Export to plot.ly\"}\n",
       "        ).then(function () {return Plotly.addFrames('4d6e40e2-6c3b-45e7-bd92-e5fb0efa4f56',{});}).then(function(){Plotly.animate('4d6e40e2-6c3b-45e7-bd92-e5fb0efa4f56');})\n",
       "        });</script>"
      ]
     },
     "metadata": {},
     "output_type": "display_data"
    }
   ],
   "source": [
    "trace = go.Bar(\n",
    "    x=df1.month,\n",
    "    y=df1.flight_num,  marker=dict(\n",
    "        color = df1.flight_num,\n",
    "        colorscale='Jet',\n",
    "        showscale=True\n",
    "    )\n",
    ")\n",
    "\n",
    "layout = go.Layout(\n",
    "    title='Aylara Göre İptal Edilen Uçuşlar', yaxis = dict(title = 'Uçuş Sayısı')\n",
    ")\n",
    "data = [trace]\n",
    "fig = go.Figure(data=data, layout=layout)\n",
    "py.iplot(fig)"
   ]
  },
  {
   "cell_type": "code",
   "execution_count": 10,
   "metadata": {},
   "outputs": [],
   "source": [
    "reason={'A':'Airline/Carrier', 'B':'Weather', 'C':'National Air System', 'D':'Security'}\n",
    "df.CANCELLATION_REASON = df.CANCELLATION_REASON.map(reason)\n",
    "\n",
    "df2 = df[df.CANCELLATION_REASON=='Weather'].MONTH.value_counts()\n",
    "df2 = df2.to_frame().sort_index()\n",
    "df2.index = df2.index.map(month)\n",
    "\n",
    "df3 = df[df.CANCELLATION_REASON=='Airline/Carrier'].MONTH.value_counts()\n",
    "df3 = df3.to_frame().sort_index()\n",
    "df3.index = df3.index.map(month)\n",
    "\n",
    "df4 = df[df.CANCELLATION_REASON=='National Air System'].MONTH.value_counts()\n",
    "df4 = df4.to_frame().sort_index()\n",
    "df4.index = df4.index.map(month)"
   ]
  },
  {
   "cell_type": "code",
   "execution_count": 11,
   "metadata": {},
   "outputs": [
    {
     "data": {
      "application/vnd.plotly.v1+json": {
       "data": [
        {
         "marker": {
          "color": "aqua"
         },
         "name": "Weather",
         "type": "bar",
         "uid": "aa0847fe-bf2b-11e8-b527-43b87aab943e",
         "x": [
          "Jan",
          "Feb",
          "Mar",
          "Apr",
          "May",
          "Jun",
          "Jul",
          "Aug",
          "Sep",
          "Nov",
          "Dec"
         ],
         "y": [
          7020,
          15447,
          6864,
          1789,
          2780,
          3325,
          882,
          1310,
          505,
          2339,
          5613
         ]
        },
        {
         "marker": {
          "color": "red"
         },
         "name": "Airline/Carrier",
         "type": "bar",
         "uid": "aa084a7e-bf2b-11e8-b527-43b87aab943e",
         "x": [
          "Jan",
          "Feb",
          "Mar",
          "Apr",
          "May",
          "Jun",
          "Jul",
          "Aug",
          "Sep",
          "Nov",
          "Dec"
         ],
         "y": [
          2874,
          2815,
          2494,
          1796,
          2007,
          3619,
          2588,
          2364,
          1088,
          1085,
          1579
         ]
        },
        {
         "marker": {
          "color": "navy"
         },
         "name": "National Air System",
         "type": "bar",
         "uid": "aa084c54-bf2b-11e8-b527-43b87aab943e",
         "x": [
          "Jan",
          "Feb",
          "Mar",
          "Apr",
          "May",
          "Jun",
          "Jul",
          "Aug",
          "Sep",
          "Nov",
          "Dec"
         ],
         "y": [
          2087,
          2254,
          1639,
          935,
          906,
          2176,
          1335,
          1376,
          482,
          1164,
          871
         ]
        }
       ],
       "layout": {
        "title": "Uçuş İptal Sebepleri",
        "yaxis": {
         "title": "Uçuş Sayısı"
        }
       }
      },
      "text/html": [
       "<div id=\"49fdedd1-009d-41d8-86a0-9a50636520cf\" style=\"height: 525px; width: 100%;\" class=\"plotly-graph-div\"></div><script type=\"text/javascript\">require([\"plotly\"], function(Plotly) { window.PLOTLYENV=window.PLOTLYENV || {};window.PLOTLYENV.BASE_URL=\"https://plot.ly\";\n",
       "        Plotly.plot(\n",
       "            '49fdedd1-009d-41d8-86a0-9a50636520cf',\n",
       "            [{\"marker\": {\"color\": \"aqua\"}, \"name\": \"Weather\", \"x\": [\"Jan\", \"Feb\", \"Mar\", \"Apr\", \"May\", \"Jun\", \"Jul\", \"Aug\", \"Sep\", \"Nov\", \"Dec\"], \"y\": [7020.0, 15447.0, 6864.0, 1789.0, 2780.0, 3325.0, 882.0, 1310.0, 505.0, 2339.0, 5613.0], \"type\": \"bar\", \"uid\": \"aa0847fe-bf2b-11e8-b527-43b87aab943e\"}, {\"marker\": {\"color\": \"red\"}, \"name\": \"Airline/Carrier\", \"x\": [\"Jan\", \"Feb\", \"Mar\", \"Apr\", \"May\", \"Jun\", \"Jul\", \"Aug\", \"Sep\", \"Nov\", \"Dec\"], \"y\": [2874.0, 2815.0, 2494.0, 1796.0, 2007.0, 3619.0, 2588.0, 2364.0, 1088.0, 1085.0, 1579.0], \"type\": \"bar\", \"uid\": \"aa084a7e-bf2b-11e8-b527-43b87aab943e\"}, {\"marker\": {\"color\": \"navy\"}, \"name\": \"National Air System\", \"x\": [\"Jan\", \"Feb\", \"Mar\", \"Apr\", \"May\", \"Jun\", \"Jul\", \"Aug\", \"Sep\", \"Nov\", \"Dec\"], \"y\": [2087.0, 2254.0, 1639.0, 935.0, 906.0, 2176.0, 1335.0, 1376.0, 482.0, 1164.0, 871.0], \"type\": \"bar\", \"uid\": \"aa084c54-bf2b-11e8-b527-43b87aab943e\"}],\n",
       "            {\"title\": \"U\\u00e7u\\u015f \\u0130ptal Sebepleri\", \"yaxis\": {\"title\": \"U\\u00e7u\\u015f Say\\u0131s\\u0131\"}},\n",
       "            {\"showLink\": true, \"linkText\": \"Export to plot.ly\"}\n",
       "        ).then(function () {return Plotly.addFrames('49fdedd1-009d-41d8-86a0-9a50636520cf',{});}).then(function(){Plotly.animate('49fdedd1-009d-41d8-86a0-9a50636520cf');})\n",
       "        });</script>"
      ],
      "text/vnd.plotly.v1+html": [
       "<div id=\"49fdedd1-009d-41d8-86a0-9a50636520cf\" style=\"height: 525px; width: 100%;\" class=\"plotly-graph-div\"></div><script type=\"text/javascript\">require([\"plotly\"], function(Plotly) { window.PLOTLYENV=window.PLOTLYENV || {};window.PLOTLYENV.BASE_URL=\"https://plot.ly\";\n",
       "        Plotly.plot(\n",
       "            '49fdedd1-009d-41d8-86a0-9a50636520cf',\n",
       "            [{\"marker\": {\"color\": \"aqua\"}, \"name\": \"Weather\", \"x\": [\"Jan\", \"Feb\", \"Mar\", \"Apr\", \"May\", \"Jun\", \"Jul\", \"Aug\", \"Sep\", \"Nov\", \"Dec\"], \"y\": [7020.0, 15447.0, 6864.0, 1789.0, 2780.0, 3325.0, 882.0, 1310.0, 505.0, 2339.0, 5613.0], \"type\": \"bar\", \"uid\": \"aa0847fe-bf2b-11e8-b527-43b87aab943e\"}, {\"marker\": {\"color\": \"red\"}, \"name\": \"Airline/Carrier\", \"x\": [\"Jan\", \"Feb\", \"Mar\", \"Apr\", \"May\", \"Jun\", \"Jul\", \"Aug\", \"Sep\", \"Nov\", \"Dec\"], \"y\": [2874.0, 2815.0, 2494.0, 1796.0, 2007.0, 3619.0, 2588.0, 2364.0, 1088.0, 1085.0, 1579.0], \"type\": \"bar\", \"uid\": \"aa084a7e-bf2b-11e8-b527-43b87aab943e\"}, {\"marker\": {\"color\": \"navy\"}, \"name\": \"National Air System\", \"x\": [\"Jan\", \"Feb\", \"Mar\", \"Apr\", \"May\", \"Jun\", \"Jul\", \"Aug\", \"Sep\", \"Nov\", \"Dec\"], \"y\": [2087.0, 2254.0, 1639.0, 935.0, 906.0, 2176.0, 1335.0, 1376.0, 482.0, 1164.0, 871.0], \"type\": \"bar\", \"uid\": \"aa084c54-bf2b-11e8-b527-43b87aab943e\"}],\n",
       "            {\"title\": \"U\\u00e7u\\u015f \\u0130ptal Sebepleri\", \"yaxis\": {\"title\": \"U\\u00e7u\\u015f Say\\u0131s\\u0131\"}},\n",
       "            {\"showLink\": true, \"linkText\": \"Export to plot.ly\"}\n",
       "        ).then(function () {return Plotly.addFrames('49fdedd1-009d-41d8-86a0-9a50636520cf',{});}).then(function(){Plotly.animate('49fdedd1-009d-41d8-86a0-9a50636520cf');})\n",
       "        });</script>"
      ]
     },
     "metadata": {},
     "output_type": "display_data"
    }
   ],
   "source": [
    "trace1 = go.Bar(\n",
    "    x=df2.index,\n",
    "    y=df2.MONTH,\n",
    "    name = 'Weather',\n",
    "    marker=dict(\n",
    "        color = ('aqua')\n",
    "    )\n",
    ")\n",
    "\n",
    "trace2 = go.Bar(\n",
    "    x=df3.index,\n",
    "    y=df3.MONTH,\n",
    "    name='Airline/Carrier',\n",
    "    marker=dict(\n",
    "        color = ('red')\n",
    "    )\n",
    ")\n",
    "\n",
    "trace3 = go.Bar(\n",
    "    x=df4.index,\n",
    "    y=df4.MONTH,\n",
    "    name='National Air System',\n",
    "    marker=dict(\n",
    "        color = ('navy')\n",
    "    )\n",
    ")\n",
    "\n",
    "layout = go.Layout(\n",
    "    title='Uçuş İptal Sebepleri', yaxis = dict(title = 'Uçuş Sayısı')\n",
    ")\n",
    "data = [trace1,trace2,trace3]\n",
    "fig = go.Figure(data=data, layout=layout)\n",
    "py.iplot(fig)"
   ]
  },
  {
   "cell_type": "code",
   "execution_count": 12,
   "metadata": {},
   "outputs": [],
   "source": [
    "### BONUS1\n",
    "df5 = df.groupby('AIRLINE').DEPARTURE_DELAY.mean().to_frame().sort_values(by='DEPARTURE_DELAY',ascending=False).round(2)\n",
    "df6 = df.groupby('AIRLINE').ARRIVAL_DELAY.mean().to_frame().sort_values(by='ARRIVAL_DELAY',ascending=False).round(2)"
   ]
  },
  {
   "cell_type": "code",
   "execution_count": 13,
   "metadata": {},
   "outputs": [
    {
     "data": {
      "application/vnd.plotly.v1+json": {
       "data": [
        {
         "marker": {
          "color": "aqua"
         },
         "name": "departure_delay",
         "type": "bar",
         "uid": "aa7ba60e-bf2b-11e8-b527-43b87aab943e",
         "x": [
          "Spirit Air Lines",
          "United Air Lines Inc.",
          "Frontier Airlines Inc.",
          "JetBlue Airways",
          "Southwest Airlines Co.",
          "American Eagle Airlines Inc.",
          "American Airlines Inc.",
          "Virgin America",
          "Atlantic Southeast Airlines",
          "Skywest Airlines Inc.",
          "Delta Air Lines Inc.",
          "US Airways Inc.",
          "Alaska Airlines Inc.",
          "Hawaiian Airlines Inc."
         ],
         "y": [
          16.68,
          15.13,
          14.27,
          11.83,
          11,
          10.69,
          9.33,
          9.21,
          9.08,
          8.18,
          7.76,
          6.14,
          1.96,
          0.51
         ]
        },
        {
         "marker": {
          "color": "red"
         },
         "name": "arrival_delay",
         "type": "bar",
         "uid": "aa7ba92e-bf2b-11e8-b527-43b87aab943e",
         "x": [
          "Spirit Air Lines",
          "Frontier Airlines Inc.",
          "American Eagle Airlines Inc.",
          "Atlantic Southeast Airlines",
          "JetBlue Airways",
          "Skywest Airlines Inc.",
          "United Air Lines Inc.",
          "Virgin America",
          "Southwest Airlines Co.",
          "American Airlines Inc.",
          "US Airways Inc.",
          "Hawaiian Airlines Inc.",
          "Delta Air Lines Inc.",
          "Alaska Airlines Inc."
         ],
         "y": [
          15.21,
          13.73,
          7.32,
          6.96,
          6.95,
          6.22,
          6.21,
          4.98,
          4.84,
          3.94,
          3.71,
          2.16,
          0.68,
          -0.79
         ]
        }
       ],
       "layout": {
        "barmode": "stack",
        "title": "Havayollarına Göre Ortalama Varış ve Kalkış Gecikmeleri",
        "xaxis": {
         "tickangle": 15
        },
        "yaxis": {
         "title": "dakika"
        }
       }
      },
      "text/html": [
       "<div id=\"450d4043-1224-46fd-8a46-14ab477a9c10\" style=\"height: 525px; width: 100%;\" class=\"plotly-graph-div\"></div><script type=\"text/javascript\">require([\"plotly\"], function(Plotly) { window.PLOTLYENV=window.PLOTLYENV || {};window.PLOTLYENV.BASE_URL=\"https://plot.ly\";\n",
       "        Plotly.plot(\n",
       "            '450d4043-1224-46fd-8a46-14ab477a9c10',\n",
       "            [{\"marker\": {\"color\": \"aqua\"}, \"name\": \"departure_delay\", \"x\": [\"Spirit Air Lines\", \"United Air Lines Inc.\", \"Frontier Airlines Inc.\", \"JetBlue Airways\", \"Southwest Airlines Co.\", \"American Eagle Airlines Inc.\", \"American Airlines Inc.\", \"Virgin America\", \"Atlantic Southeast Airlines\", \"Skywest Airlines Inc.\", \"Delta Air Lines Inc.\", \"US Airways Inc.\", \"Alaska Airlines Inc.\", \"Hawaiian Airlines Inc.\"], \"y\": [16.68, 15.13, 14.27, 11.83, 11.0, 10.69, 9.33, 9.21, 9.08, 8.18, 7.76, 6.14, 1.96, 0.51], \"type\": \"bar\", \"uid\": \"aa7ba60e-bf2b-11e8-b527-43b87aab943e\"}, {\"marker\": {\"color\": \"red\"}, \"name\": \"arrival_delay\", \"x\": [\"Spirit Air Lines\", \"Frontier Airlines Inc.\", \"American Eagle Airlines Inc.\", \"Atlantic Southeast Airlines\", \"JetBlue Airways\", \"Skywest Airlines Inc.\", \"United Air Lines Inc.\", \"Virgin America\", \"Southwest Airlines Co.\", \"American Airlines Inc.\", \"US Airways Inc.\", \"Hawaiian Airlines Inc.\", \"Delta Air Lines Inc.\", \"Alaska Airlines Inc.\"], \"y\": [15.21, 13.73, 7.32, 6.96, 6.95, 6.22, 6.21, 4.98, 4.84, 3.94, 3.71, 2.16, 0.68, -0.79], \"type\": \"bar\", \"uid\": \"aa7ba92e-bf2b-11e8-b527-43b87aab943e\"}],\n",
       "            {\"barmode\": \"stack\", \"title\": \"Havayollar\\u0131na G\\u00f6re Ortalama Var\\u0131\\u015f ve Kalk\\u0131\\u015f Gecikmeleri\", \"xaxis\": {\"tickangle\": 15}, \"yaxis\": {\"title\": \"dakika\"}},\n",
       "            {\"showLink\": true, \"linkText\": \"Export to plot.ly\"}\n",
       "        ).then(function () {return Plotly.addFrames('450d4043-1224-46fd-8a46-14ab477a9c10',{});}).then(function(){Plotly.animate('450d4043-1224-46fd-8a46-14ab477a9c10');})\n",
       "        });</script>"
      ],
      "text/vnd.plotly.v1+html": [
       "<div id=\"450d4043-1224-46fd-8a46-14ab477a9c10\" style=\"height: 525px; width: 100%;\" class=\"plotly-graph-div\"></div><script type=\"text/javascript\">require([\"plotly\"], function(Plotly) { window.PLOTLYENV=window.PLOTLYENV || {};window.PLOTLYENV.BASE_URL=\"https://plot.ly\";\n",
       "        Plotly.plot(\n",
       "            '450d4043-1224-46fd-8a46-14ab477a9c10',\n",
       "            [{\"marker\": {\"color\": \"aqua\"}, \"name\": \"departure_delay\", \"x\": [\"Spirit Air Lines\", \"United Air Lines Inc.\", \"Frontier Airlines Inc.\", \"JetBlue Airways\", \"Southwest Airlines Co.\", \"American Eagle Airlines Inc.\", \"American Airlines Inc.\", \"Virgin America\", \"Atlantic Southeast Airlines\", \"Skywest Airlines Inc.\", \"Delta Air Lines Inc.\", \"US Airways Inc.\", \"Alaska Airlines Inc.\", \"Hawaiian Airlines Inc.\"], \"y\": [16.68, 15.13, 14.27, 11.83, 11.0, 10.69, 9.33, 9.21, 9.08, 8.18, 7.76, 6.14, 1.96, 0.51], \"type\": \"bar\", \"uid\": \"aa7ba60e-bf2b-11e8-b527-43b87aab943e\"}, {\"marker\": {\"color\": \"red\"}, \"name\": \"arrival_delay\", \"x\": [\"Spirit Air Lines\", \"Frontier Airlines Inc.\", \"American Eagle Airlines Inc.\", \"Atlantic Southeast Airlines\", \"JetBlue Airways\", \"Skywest Airlines Inc.\", \"United Air Lines Inc.\", \"Virgin America\", \"Southwest Airlines Co.\", \"American Airlines Inc.\", \"US Airways Inc.\", \"Hawaiian Airlines Inc.\", \"Delta Air Lines Inc.\", \"Alaska Airlines Inc.\"], \"y\": [15.21, 13.73, 7.32, 6.96, 6.95, 6.22, 6.21, 4.98, 4.84, 3.94, 3.71, 2.16, 0.68, -0.79], \"type\": \"bar\", \"uid\": \"aa7ba92e-bf2b-11e8-b527-43b87aab943e\"}],\n",
       "            {\"barmode\": \"stack\", \"title\": \"Havayollar\\u0131na G\\u00f6re Ortalama Var\\u0131\\u015f ve Kalk\\u0131\\u015f Gecikmeleri\", \"xaxis\": {\"tickangle\": 15}, \"yaxis\": {\"title\": \"dakika\"}},\n",
       "            {\"showLink\": true, \"linkText\": \"Export to plot.ly\"}\n",
       "        ).then(function () {return Plotly.addFrames('450d4043-1224-46fd-8a46-14ab477a9c10',{});}).then(function(){Plotly.animate('450d4043-1224-46fd-8a46-14ab477a9c10');})\n",
       "        });</script>"
      ]
     },
     "metadata": {},
     "output_type": "display_data"
    }
   ],
   "source": [
    "trace1 = go.Bar(\n",
    "    x=df5.index,\n",
    "    y=df5.DEPARTURE_DELAY,\n",
    "    name='departure_delay',\n",
    "    marker=dict(\n",
    "        color = ('aqua')\n",
    "    ),\n",
    ")\n",
    "\n",
    "trace2 = go.Bar(\n",
    "    x=df6.index,\n",
    "    y=df6.ARRIVAL_DELAY,\n",
    "    name='arrival_delay',\n",
    "    marker=dict(\n",
    "        color = ('red')\n",
    "    ),\n",
    ")\n",
    "\n",
    "data = [trace1, trace2]\n",
    "layout = go.Layout(xaxis=dict(tickangle=15), title='Havayollarına Göre Ortalama Varış ve Kalkış Gecikmeleri',\n",
    "    yaxis = dict(title = 'dakika'), barmode='stack'\n",
    ")\n",
    "\n",
    "fig = go.Figure(data=data, layout=layout)\n",
    "py.iplot(fig)"
   ]
  }
 ],
 "metadata": {
  "kernelspec": {
   "display_name": "Python 3",
   "language": "python",
   "name": "python3"
  },
  "language_info": {
   "codemirror_mode": {
    "name": "ipython",
    "version": 3
   },
   "file_extension": ".py",
   "mimetype": "text/x-python",
   "name": "python",
   "nbconvert_exporter": "python",
   "pygments_lexer": "ipython3",
   "version": "3.6.4"
  }
 },
 "nbformat": 4,
 "nbformat_minor": 2
}
